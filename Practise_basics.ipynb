{
 "cells": [
  {
   "cell_type": "markdown",
   "id": "652c1388-80a4-4803-a185-e0df9c720e7a",
   "metadata": {},
   "source": [
    "# INTRODUCTION TO PYTHON "
   ]
  },
  {
   "cell_type": "code",
   "execution_count": 5,
   "id": "fa93bfda-daf5-4808-9793-a33da21429a3",
   "metadata": {},
   "outputs": [
    {
     "name": "stdout",
     "output_type": "stream",
     "text": [
      "Daniel\n"
     ]
    }
   ],
   "source": [
    "#Variables in python :  A variable is like a container or box that stores data or tells you what's inside the box \n",
    "my_name = \"Daniel\"\n",
    "\n",
    "#print function: used to output responses from your codes \n",
    "print(my_name)"
   ]
  },
  {
   "cell_type": "code",
   "execution_count": 12,
   "id": "7101d45e-3497-42b6-adc9-1b18ffe68f5a",
   "metadata": {},
   "outputs": [
    {
     "name": "stdout",
     "output_type": "stream",
     "text": [
      "Enter the month of interest you want to analyse lagos\n"
     ]
    }
   ],
   "source": [
    "#input \n",
    "month_variable = input('Enter the month of interest you want to analyse')\n"
   ]
  },
  {
   "cell_type": "code",
   "execution_count": 10,
   "id": "075bec03-d6f3-4a34-9540-7e43fa1914ae",
   "metadata": {},
   "outputs": [
    {
     "name": "stdout",
     "output_type": "stream",
     "text": [
      "January\n"
     ]
    }
   ],
   "source": [
    "print(month_variable)"
   ]
  },
  {
   "cell_type": "markdown",
   "id": "d99f8335-ea93-4315-b866-b4aa25008643",
   "metadata": {},
   "source": [
    "### Types of Comments \n",
    "<li> Single Line comments </li>\n",
    "<li> multiple Line comments using hash tags </li>\n",
    "<li> multiple Line comments using quotation marks </li>"
   ]
  },
  {
   "cell_type": "code",
   "execution_count": 11,
   "id": "52c97f15-2a9a-45a8-8a10-a85306848736",
   "metadata": {},
   "outputs": [
    {
     "name": "stdout",
     "output_type": "stream",
     "text": [
      "Nigeria\n"
     ]
    }
   ],
   "source": [
    "#Comments : Comments in ython helps to further explain or give more light about our codes \n",
    "#single line comment : initated using the hash tags \n",
    "my_country = \"Nigeria\" # This vairable saves the name of my country \n",
    "print(my_country)"
   ]
  },
  {
   "cell_type": "code",
   "execution_count": 1,
   "id": "fae10f92-80e3-479e-ab85-0c8ea67f4dac",
   "metadata": {},
   "outputs": [],
   "source": [
    "#using quotation marks\n",
    "def my_first_print(x,b):\n",
    "    \n",
    "    \"\"\"This function prints whatever i ask t to print\n",
    "    fgt  ghtb \"\"\"\n",
    "    v = x + b\n",
    "    return v\n",
    "\n"
   ]
  },
  {
   "cell_type": "code",
   "execution_count": 1,
   "id": "df46babd-c61c-4567-bd3c-d20988a3369e",
   "metadata": {},
   "outputs": [],
   "source": [
    "y = \"Ben\"\n",
    "def print_numbers(str:y):\n",
    "    print(y)"
   ]
  },
  {
   "cell_type": "code",
   "execution_count": 2,
   "id": "9e60e522-2e39-4167-9e95-d0176d27af28",
   "metadata": {},
   "outputs": [
    {
     "name": "stdout",
     "output_type": "stream",
     "text": [
      "Ben\n"
     ]
    }
   ],
   "source": [
    "print_numbers(y)"
   ]
  },
  {
   "cell_type": "code",
   "execution_count": null,
   "id": "5850fa59-8cf2-4a03-a09f-2ea99f7b1505",
   "metadata": {},
   "outputs": [],
   "source": [
    "#indentation\n",
    "\n",
    "\n",
    "list_num = [1,2,3,4,5]\n",
    "for item in list_num:\n",
    "    "
   ]
  },
  {
   "cell_type": "markdown",
   "id": "4499b47a-4c4a-46ac-8580-6c3b04b446dc",
   "metadata": {},
   "source": [
    "### VARIABLES \n",
    "\n",
    "## RULES FOR NAMING VAIRABLES \n",
    "- Start with a letter or underscore\n",
    "- can only contain letters , numbers and underscore\n",
    "- variables are case sensitve\n",
    "- You cannot use python key words to name your variables\n",
    "Tips for variables\n",
    "\n",
    "- names should be descriptive enough"
   ]
  },
  {
   "cell_type": "code",
   "execution_count": 9,
   "id": "0f45557a-ebf8-43ad-a043-5ffbcaa4511a",
   "metadata": {},
   "outputs": [],
   "source": [
    "my_age = 12   # variable defined here is my_age"
   ]
  },
  {
   "cell_type": "code",
   "execution_count": 10,
   "id": "57192d9a-3440-49cd-821d-9a11a029cf4f",
   "metadata": {},
   "outputs": [
    {
     "name": "stdout",
     "output_type": "stream",
     "text": [
      "12\n",
      "12\n"
     ]
    }
   ],
   "source": [
    "#VARIABLES \n",
    "_my_8_name = \"Angela\" # variable defined here is my_name \n",
    "\n",
    "\n",
    "\n",
    "\n",
    "my_Age = 12\n",
    "\n",
    "print(my_age)\n",
    "print(my_Age)"
   ]
  },
  {
   "cell_type": "code",
   "execution_count": 11,
   "id": "32afd80f-42d4-461e-9620-508b958be120",
   "metadata": {},
   "outputs": [
    {
     "name": "stdout",
     "output_type": "stream",
     "text": [
      "16\n"
     ]
    }
   ],
   "source": [
    "# += Operator \n",
    "y = 10 + 6\n",
    "print(y)"
   ]
  },
  {
   "cell_type": "code",
   "execution_count": 15,
   "id": "591cfad8-76c1-43f5-8087-791533f6ad4f",
   "metadata": {},
   "outputs": [
    {
     "name": "stdout",
     "output_type": "stream",
     "text": [
      "16\n"
     ]
    }
   ],
   "source": [
    "y = 10\n",
    "y +=6\n",
    "print(y)"
   ]
  },
  {
   "cell_type": "markdown",
   "id": "b351fc39-d304-4083-90fd-f617ca8679af",
   "metadata": {},
   "source": [
    "## DATA TYPES\n",
    "Numeric Data type\n",
    "-Integer data type : whole numbers  e.g 3, 14, 23 \n",
    "- Float data type : Numbers with fractions 5.5, 6.7\n",
    "\n",
    "Strings : \n",
    "string of characters : e.g \"Blessing\", \"4567\"\n"
   ]
  },
  {
   "cell_type": "code",
   "execution_count": 19,
   "id": "5c22ea53-8ee1-4e60-b1f8-fea97d869601",
   "metadata": {},
   "outputs": [
    {
     "name": "stdout",
     "output_type": "stream",
     "text": [
      "Hello Angela\n"
     ]
    }
   ],
   "source": [
    "# STRING CONCATENATION\n",
    "\n",
    "v = \"Hello \" + \"Angela\"\n",
    "print(v)"
   ]
  },
  {
   "cell_type": "code",
   "execution_count": 35,
   "id": "05ee430e-65d5-4609-8438-dba9afdc1a19",
   "metadata": {},
   "outputs": [
    {
     "name": "stdout",
     "output_type": "stream",
     "text": [
      "She said that \"that you will be coming tomorrow?\" \n",
      "These are the items \"book\", \"pencil\", \"sharpner\" \n"
     ]
    }
   ],
   "source": [
    "speech  = \"She said that \\\"that you will be coming tomorrow?\\\" \"\n",
    "val = \"These are the items \\\"book\\\", \\\"pencil\\\", \\\"sharpner\\\" \"\n",
    "\n",
    "print(speech)\n",
    "print(val)"
   ]
  },
  {
   "cell_type": "code",
   "execution_count": 43,
   "id": "b4832eb9-c266-47ec-a7a6-43bf6abc4561",
   "metadata": {},
   "outputs": [
    {
     "name": "stdout",
     "output_type": "stream",
     "text": [
      "There are 365 days in a year\n"
     ]
    }
   ],
   "source": [
    "#f-string\n",
    "\n",
    "days_in_year = 365\n",
    "print(f\"There are {days_in_year} days in a year\")"
   ]
  },
  {
   "cell_type": "code",
   "execution_count": 44,
   "id": "b1f9977f-29f7-4f74-8073-25118e2220af",
   "metadata": {},
   "outputs": [
    {
     "name": "stdout",
     "output_type": "stream",
     "text": [
      "456.0\n"
     ]
    }
   ],
   "source": [
    "#Data Type conversion\n",
    "v = 456\n",
    "new_n = float(v)\n",
    "print(new_n)"
   ]
  },
  {
   "cell_type": "code",
   "execution_count": 1,
   "id": "2088a52a",
   "metadata": {},
   "outputs": [
    {
     "name": "stdout",
     "output_type": "stream",
     "text": [
      "Addition: 5\n",
      "Subtraction: 3\n",
      "Multiplication: 12\n",
      "Division: 5.0\n"
     ]
    }
   ],
   "source": [
    "#ARITHMETIC OPERATORS \n",
    "x = 2 + 3 # add\n",
    "y = 5 - 2 # subtract\n",
    "z = 4 * 3 # multiply\n",
    "w = 10 / 2 # divide\n",
    "print(\"Addition:\", x)\n",
    "print(\"Subtraction:\", y)\n",
    "print(\"Multiplication:\", z)\n",
    "print(\"Division:\", w)\n"
   ]
  },
  {
   "cell_type": "code",
   "execution_count": 3,
   "id": "9edb1f96",
   "metadata": {},
   "outputs": [
    {
     "name": "stdout",
     "output_type": "stream",
     "text": [
      "increment by 5: 15\n"
     ]
    }
   ],
   "source": [
    "first_number =  10\n",
    "first_number += 5 # increment by 5\n",
    "print(\"increment by 5:\", first_number)"
   ]
  },
  {
   "cell_type": "code",
   "execution_count": 51,
   "id": "1a71b44e",
   "metadata": {},
   "outputs": [
    {
     "name": "stdout",
     "output_type": "stream",
     "text": [
      "5\n"
     ]
    }
   ],
   "source": [
    "#modulo operator \n",
    "print(19 % 7 )"
   ]
  },
  {
   "cell_type": "code",
   "execution_count": null,
   "id": "57bc0cc4",
   "metadata": {},
   "outputs": [],
   "source": [
    "# Some Errors in Python \n",
    "# - Zero error : when you divide a number by 0 \n",
    "#- Syntax Error : Occurs when your code does not make any sense to the computer e.g this occurs when you misspelt something \n",
    "#- Name Error : Occurs when you try to use a variable that has not been defined\n",
    "#- Type Error : Occurs when you try to perform an operation on a variable that is not compatible with the operation\n",
    "#- Index Error : Occurs when you try to access an index that is out of range in a list or string\n",
    "#- Key Error : Occurs when you try to access a key that does not exist in a dictionary\n",
    "#- Attribute Error : Occurs when you try to access an attribute that does not exist in an object\n",
    "#- Import Error : Occurs when you try to import a module that does not exist or is not installed\n",
    "#- Value Error : Occurs when you try to convert a value to a type that is not compatible with the value\n",
    "#- File Not Found Error : Occurs when you try to open a file that does not exist\n",
    "#- Indentation Error : Occurs when your code is not properly indented, which is important in Python for defining blocks of code\n",
    "#- Overflow Error : Occurs when a calculation exceeds the maximum limit for a numeric type\n",
    "#- Memory Error : Occurs when your program runs out of memory\n",
    "#- Recursion Error : Occurs when a function calls itself too many times without a base case, leading to a stack overflow\n",
    "#- Stop Iteration Error : Occurs when you try to iterate over an object that has no more items to return\n",
    "#- Unicode Error : Occurs when there is an issue with encoding or decoding a string that contains non-ASCII characters          "
   ]
  },
  {
   "cell_type": "code",
   "execution_count": 53,
   "id": "c20868d1-060f-4282-acb2-9c8dc7960002",
   "metadata": {},
   "outputs": [],
   "source": [
    "#INTRODUCTION TO Python function\n",
    "def add_num(a,b):\n",
    "    v = a + b\n",
    "    print(v)"
   ]
  },
  {
   "cell_type": "code",
   "execution_count": 54,
   "id": "855a2de4-10eb-4b88-9bfc-59eebc4ea2b0",
   "metadata": {},
   "outputs": [
    {
     "name": "stdout",
     "output_type": "stream",
     "text": [
      "5\n"
     ]
    }
   ],
   "source": [
    "add_num(2,3)"
   ]
  },
  {
   "cell_type": "code",
   "execution_count": 19,
   "id": "102167d9-347b-4b05-ae0b-5f8d6eb55df5",
   "metadata": {},
   "outputs": [],
   "source": [
    "#Create a function that takes your name as an argument and prints \"How are you name, Welcome to todya's Class\"\n",
    "def welcome(name):\n",
    "    print(f\"How are you {name}, Welcome to today's Class\")\n"
   ]
  },
  {
   "cell_type": "code",
   "execution_count": 20,
   "id": "2ad8c7c4-1da1-4a6b-9c08-7ea49b2c5fcd",
   "metadata": {},
   "outputs": [
    {
     "name": "stdout",
     "output_type": "stream",
     "text": [
      "How are you Kola, Welcome to today's Class\n"
     ]
    }
   ],
   "source": [
    "welcome(\"Kola\")"
   ]
  },
  {
   "cell_type": "code",
   "execution_count": 15,
   "id": "62d36cae",
   "metadata": {},
   "outputs": [
    {
     "name": "stdout",
     "output_type": "stream",
     "text": [
      "Input your name kola\n"
     ]
    }
   ],
   "source": [
    "name = input(\"Input your name\")"
   ]
  },
  {
   "cell_type": "code",
   "execution_count": 24,
   "id": "0836940a-5f33-4e66-a3bd-8514275620c5",
   "metadata": {},
   "outputs": [
    {
     "name": "stdout",
     "output_type": "stream",
     "text": [
      "What is the age 78\n"
     ]
    },
    {
     "name": "stdout",
     "output_type": "stream",
     "text": [
      "The fellow has 144 months 624 weeks and 4380, days to live\n"
     ]
    }
   ],
   "source": [
    "##ASSUMING HUMANS HAVE 90 YEARS TO LIVE, WRITE A FUNCTION THAT TAKES HUMAN AGE AND GIVES YOU THE TOTAL MONTHS, WEEKS AND DAYS \n",
    "#THE FELLOW HUMAN  HAVE LEFT AFTER SUBTRACTING THEIR PRESENT AGE FROM 90 \n",
    "\n",
    "\n",
    "\n",
    "\n",
    "\n",
    "\n",
    "human_age = int(input(\"What is the age\"))\n",
    "def age_left(human_age):\n",
    "    age_remaining = 90-human_age\n",
    "    months_left = age_remaining * 12\n",
    "    weeks_left = age_remaining * 52\n",
    "    days_left = age_remaining * 365\n",
    "    print(f\"The fellow has {months_left} months {weeks_left} weeks and {days_left}, days to live\")\n",
    "   \n",
    "\n",
    "age_left(human_age) "
   ]
  },
  {
   "cell_type": "code",
   "execution_count": null,
   "id": "845a81e9-ac85-412e-943e-8e8ba422c5a7",
   "metadata": {},
   "outputs": [],
   "source": [
    "def age_left(human_age, lifespan=90):\n",
    "    \"\"\"\n",
    "    Returns (months_left, weeks_left, days_left) given a current age.\n",
    "    Assumes 12 months, 52 weeks, 365 days per year.\n",
    "    \"\"\"\n",
    "    try:\n",
    "        age = float(human_age)\n",
    "    except (TypeError, ValueError):\n",
    "        raise ValueError(\"Age must be a number.\")\n",
    "\n",
    "    if age < 0:\n",
    "        raise ValueError(\"Age cannot be negative.\")\n",
    "\n",
    "    years_left = max(lifespan - age, 0)\n",
    "    months_left = int(years_left * 12)\n",
    "    weeks_left  = int(years_left * 52)\n",
    "    days_left   = int(years_left * 365)\n",
    "\n",
    "    return months_left, weeks_left, days_left\n",
    "\n",
    "\n",
    "# Example interactive usage:\n",
    "if __name__ == \"__main__\":\n",
    "    human_age = input(\"What is the age? \")\n",
    "    m, w, d = age_left(human_age)\n",
    "    print(f\"The fellow has {m} months, {w} weeks and {d} days to live.\")\n"
   ]
  },
  {
   "cell_type": "code",
   "execution_count": 1,
   "id": "10cb56fc-6233-4616-923a-c86143c1c9ae",
   "metadata": {},
   "outputs": [],
   "source": [
    "#Creating a tip calculator \n",
    "# This calculator takes the total cost for a customer OR group of customer\n",
    "# Ask how much the customer or group of customers will like to pay for tip giving a list of tip options\n",
    "#Gives the customer or group of customers the amount each person would pay\n",
    "\n",
    "\n",
    "\n",
    "\n",
    "def tip_cal(total_cost_cust,per_tip,total_customers,split_bill,split_plan):\n",
    "    \"\"\"This calculator takes the total cost for a customer of group of customer\n",
    "# Ask how much the customer or group of customers will like to pay for tip giving a list of tip options\n",
    "#Gives the customer or group of customers the amount each person would pay \"\"\"\n",
    "\n",
    "    try:\n",
    "        total_cost =float(total_cost_cust)\n",
    "    except ValueError:\n",
    "        ( \"Enter a correct value\")    \n",
    "    total_cost = int(total_cost)\n",
    "    per_tip = int(per_tip)\n",
    "    total_customers = int(total_customers)\n",
    "    split_bill = (split_bill).lower()\n",
    "    split_plan = int(split_plan)\n",
    "    if (split_bill == \"yes\") and per_tip == 12:\n",
    "        total_amount = (total_cost*1.12)/total_customers\n",
    "        response= f\"Each person should pay £{total_amount}\"\n",
    "    elif (split_bill == \"yes\") and per_tip == 15:\n",
    "        total_amount = total_cost*1.15/total_customers\n",
    "        response= f\"Each person should pay £{total_amount} \"\n",
    "    elif (split_bill == \"yes\") and per_tip == 20:\n",
    "        total_amount= total_cost*1.20/total_customers\n",
    "        response= f\"Each person should pay £{total_amount}\"\n",
    "    elif (split_bill == \"no\") and split_plan >= 1 and per_tip == 12:\n",
    "        total_amount = (total_cost*1.12)/split_plan\n",
    "        response= f\"Total is £{total_amount} with  {split_plan} places split plan\"\n",
    "    elif (split_bill == \"no\") and split_plan >= 1 and per_tip == 15:\n",
    "        total_amount = (total_cost*1.15)/split_plan\n",
    "        response= f\"Total is £{total_amount} with {split_plan} places split plan\"\n",
    "    elif (split_bill == \"no\") and split_plan >= 1 and per_tip == 20:\n",
    "        total_amount = (total_cost*1.20)/split_plan\n",
    "        response= f\"Total is £{total_amount} with {split_plan} places split plan\"\n",
    "    else:\n",
    "        print(\" Ask a Customer Representive to process your payment\")\n",
    "        \n",
    "    return response\n",
    "\n",
    "\n",
    "        \n",
    "    "
   ]
  },
  {
   "cell_type": "code",
   "execution_count": 2,
   "id": "ba7689d2-1769-4107-b6c7-0f9e00fc7cd7",
   "metadata": {},
   "outputs": [
    {
     "name": "stdout",
     "output_type": "stream",
     "text": [
      "Each person should pay £16.8 . Thank your for patronising us!!!\n"
     ]
    }
   ],
   "source": [
    "if __name__ == \"__main__\":\n",
    "    total_cost_cust = input(\" Enter the total cost of your entire expenses:\")\n",
    "    per_tip = int(input(\"Enter percentage tip option : 12, 15,20:\"))\n",
    "    total_customers = int(input(\"Enter total customers in figure:\"))\n",
    "    split_bill = input(\"Are you splitting the bill equally: Yes or No: \").strip().lower()\n",
    "    split_plan = input(\"Enter the number of places to split the bill or Enter 1 if you intend to pay alone or zero if splitting equally:\")\n",
    "    r = tip_cal(total_cost_cust,per_tip,total_customers,split_bill,split_plan)\n",
    "    print(f\"{r} . Thank your for patronising us!!!\")"
   ]
  },
  {
   "cell_type": "code",
   "execution_count": 38,
   "id": "e9a95a70-4ca9-46bc-b451-48eb4dfae44c",
   "metadata": {},
   "outputs": [
    {
     "name": "stdout",
     "output_type": "stream",
     "text": [
      "23\n",
      "45\n"
     ]
    }
   ],
   "source": [
    "#Variable Scope \n",
    "\n",
    "my_val = 3  #  Global scope \n",
    "\n",
    "def my_num():\n",
    "    my_val = 4\n",
    "    my_val = my_val + 1 # Local Scope \n",
    "    print(my_val + 40)\n",
    "\n",
    "\n",
    "\n",
    "print(my_val + 20)\n",
    "\n",
    "\n",
    "#function\n",
    "my_num()\n"
   ]
  },
  {
   "cell_type": "code",
   "execution_count": null,
   "id": "a76b03c4",
   "metadata": {},
   "outputs": [],
   "source": []
  },
  {
   "cell_type": "code",
   "execution_count": 2,
   "id": "971f6625-9126-43ef-8328-a2a7cf3ddb28",
   "metadata": {},
   "outputs": [],
   "source": [
    "# Python Key words \n",
    "#print, def, in, import, or, and, class, return, except, try,\n",
    "\n",
    "#print = (7 + 4)\n",
    "\n",
    "#print(print)"
   ]
  },
  {
   "cell_type": "code",
   "execution_count": 6,
   "id": "2f94de4e-ddb0-42ee-9267-e6e314a184ee",
   "metadata": {},
   "outputs": [
    {
     "name": "stdout",
     "output_type": "stream",
     "text": [
      "Enter your age here 56\n"
     ]
    },
    {
     "name": "stdout",
     "output_type": "stream",
     "text": [
      "71\n"
     ]
    }
   ],
   "source": [
    "val_age = int(input(\"Enter your age here\"))\n",
    "\n",
    "print(val_age + 15)"
   ]
  },
  {
   "cell_type": "code",
   "execution_count": null,
   "id": "1ae80da2-b6e4-4822-901b-b8d351fe4599",
   "metadata": {},
   "outputs": [],
   "source": [
    " = # assign to\n",
    "== # equal to"
   ]
  },
  {
   "cell_type": "code",
   "execution_count": 15,
   "id": "7f815f40-3a0c-4c69-8e98-95a24c93a59f",
   "metadata": {},
   "outputs": [
    {
     "name": "stdout",
     "output_type": "stream",
     "text": [
      "vacation in Babbados\n"
     ]
    }
   ],
   "source": [
    "#CONDITIONALS\n",
    "n =1500\n",
    "if n >1900: #Check a condtion or start multiple conditions \n",
    "    print(\" Vacation in USA\")\n",
    "    \n",
    "elif n == 1500: # introduce multiple conditions\n",
    "    print(\"vacation in Babbados\") \n",
    "    \n",
    "elif n >= 1000:\n",
    "    print(\"vacation in Morocco\")   \n",
    "\n",
    "else:\n",
    "    print(\"No vacation for you \")\n"
   ]
  },
  {
   "cell_type": "code",
   "execution_count": 31,
   "id": "bacb1865-454d-4fe0-bf27-32a9bd13c2aa",
   "metadata": {},
   "outputs": [
    {
     "name": "stdout",
     "output_type": "stream",
     "text": [
      "Sorry try again next time\n"
     ]
    }
   ],
   "source": [
    "# Logical statements/ comparisons in python \n",
    "\n",
    "#and, or  not \n",
    "\n",
    "#and (keyword that ensures both conditions or all conditions are met)\n",
    "#or  (keyword that runs if any of the conditions is true)\n",
    "#not ( negates a condition, or reverses a condtion )\n",
    "my_age = 0\n",
    "\n",
    "if  my_age != 0: \n",
    "    print(\"Good age value\")\n",
    "else:\n",
    "    print(\"Sorry try again next time\")"
   ]
  },
  {
   "attachments": {
    "7bd653d3-b2a9-4e58-8486-265c1d3347ae.png": {
     "image/png": "[encoded data removed]"
    }
   },
   "cell_type": "markdown",
   "id": "bc8af77f-8642-4e1c-9a05-1857059e5ed7",
   "metadata": {},
   "source": [
    "![image.png](attachment:7bd653d3-b2a9-4e58-8486-265c1d3347ae.png)"
   ]
  },
  {
   "cell_type": "code",
   "execution_count": 41,
   "id": "bb1e6d43-3629-4e19-a350-31e07c451dc7",
   "metadata": {},
   "outputs": [
    {
     "name": "stdout",
     "output_type": "stream",
     "text": [
      "Lives exhausted to 4\n",
      "Lives exhausted to 3\n",
      "Lives exhausted to 2\n",
      "Lives exhausted to 1\n"
     ]
    }
   ],
   "source": [
    "#LOOPS IN PYTHON \n",
    "\n",
    "#While Loop : A loop that will keep repeating itself until the while condition becomes false \n",
    "player_life = 5\n",
    "while player_life >1:\n",
    "    player_life-=1\n",
    "    print(f\"Lives exhausted to {player_life}\" )\n",
    "\n"
   ]
  },
  {
   "cell_type": "code",
   "execution_count": 48,
   "id": "32203d78-9e5f-4399-8e4a-ee10ba60e170",
   "metadata": {},
   "outputs": [
    {
     "name": "stdout",
     "output_type": "stream",
     "text": [
      "This very student Mouma is happy\n",
      "This very student Binta is happy\n",
      "This very student Azeez is happy\n",
      "This very student Mpudule is happy\n",
      "This very student Tobi is happy\n"
     ]
    }
   ],
   "source": [
    "#list : a built-in ordered mutable collection that can stire multiple items in a single variable \n",
    "student_list = [\"Mouma\",\"Binta\", \"Azeez\", \"Mpudule\", \"Tobi\"]\n",
    "\n",
    "print(student_list[0])\n",
    "\n",
    "#For Loop : A for loop helps you to loop through an iterable object \n",
    "\n",
    "for val in student_list:\n",
    "    print(f\"This very student {val} is happy\")\n"
   ]
  },
  {
   "cell_type": "code",
   "execution_count": 3,
   "id": "02f551cc-db31-494a-9379-7059114cea6c",
   "metadata": {},
   "outputs": [
    {
     "name": "stdout",
     "output_type": "stream",
     "text": [
      "0\n",
      "1\n",
      "2\n",
      "3\n",
      "4\n"
     ]
    }
   ],
   "source": [
    "for i in range(5): # underscore helps the range function to iterate a certain number of times\n",
    "    print(i)"
   ]
  },
  {
   "cell_type": "code",
   "execution_count": 63,
   "id": "3c47425e-8529-43de-97f6-543c7dd16c1d",
   "metadata": {},
   "outputs": [
    {
     "name": "stdout",
     "output_type": "stream",
     "text": [
      "9\n",
      "9\n",
      "9\n",
      "9\n",
      "9\n"
     ]
    }
   ],
   "source": [
    "#\n",
    "for _ in range(5): # underscore helps the range function to iterate a certain number of times\n",
    "    print(val)"
   ]
  },
  {
   "cell_type": "code",
   "execution_count": 65,
   "id": "f38aa578-ad2d-45b4-94a5-bd8a4e50facf",
   "metadata": {},
   "outputs": [
    {
     "name": "stdout",
     "output_type": "stream",
     "text": [
      "25\n",
      "50\n",
      "75\n",
      "100\n",
      "That's okay\n"
     ]
    }
   ],
   "source": [
    "#break : break out of an existing \"for\" or \"while\" loop \n",
    "Student_scores = [25, 50, 75, 100,200, 500]\n",
    "for score in Student_scores:\n",
    "    if score > 100:\n",
    "        print(\"That's okay\")\n",
    "        break\n",
    "    print(score)    \n",
    "\n"
   ]
  },
  {
   "cell_type": "code",
   "execution_count": 2,
   "id": "08e2e660-628b-4986-a332-d9efc05b6507",
   "metadata": {},
   "outputs": [
    {
     "name": "stdout",
     "output_type": "stream",
     "text": [
      "3\n",
      "5\n",
      "7\n",
      "9\n"
     ]
    }
   ],
   "source": [
    "\n",
    "#continue\n",
    "n=1\n",
    "while n < 10:\n",
    "    n +=1\n",
    "    if n % 2 == 0: # exception of values with modulo equal to zero\n",
    "        continue \n",
    "    print(n)  # print all odd numbers \n",
    "\n",
    "#infinite"
   ]
  },
  {
   "cell_type": "code",
   "execution_count": null,
   "id": "affe7cdb-9cc5-4cb3-9608-9b2467aabd74",
   "metadata": {},
   "outputs": [],
   "source": [
    "#infinite\n",
    "while 5 > 1:\n",
    "    print(\"I am a winner\")"
   ]
  },
  {
   "cell_type": "code",
   "execution_count": 1,
   "id": "8cfeb2cd-2dd2-4e5a-91d4-5df413ed0d23",
   "metadata": {},
   "outputs": [
    {
     "name": "stdout",
     "output_type": "stream",
     "text": [
      "15\n"
     ]
    }
   ],
   "source": [
    "x = 15\n",
    "print(x)"
   ]
  },
  {
   "cell_type": "code",
   "execution_count": 1,
   "id": "8bbd6a43",
   "metadata": {},
   "outputs": [
    {
     "name": "stdout",
     "output_type": "stream",
     "text": [
      "34\n",
      "67\n",
      "99\n",
      "EXIT PRINTING\n"
     ]
    }
   ],
   "source": [
    "# ANOTHER EXAMPLE FOR BREAK\n",
    "scores = [34, 67, 99, 105]\n",
    "for s in scores:\n",
    " if s > 100:\n",
    "   print(\"EXIT PRINTING\")\n",
    "   break\n",
    " print(s)"
   ]
  },
  {
   "cell_type": "code",
   "execution_count": null,
   "id": "8c267e3c",
   "metadata": {},
   "outputs": [],
   "source": [
    "#Data STRUCTURES IN PYTHON\n",
    "#LISTS\n",
    "#DICTIONARY\n",
    "#TUPLES\n",
    "#SETS"
   ]
  },
  {
   "cell_type": "code",
   "execution_count": 13,
   "id": "be47401b",
   "metadata": {},
   "outputs": [
    {
     "name": "stdout",
     "output_type": "stream",
     "text": [
      "Mouma\n",
      "['Mouma', 'Binta', 'Azeez', 'Mpudule', 'Tobi', 'Daniel']\n"
     ]
    }
   ],
   "source": [
    "#LIST : A list is an ordered , mutable collection of values or items in a single variable\n",
    "names_of_students = [\"Mouma\",\"Binta\", \"Azeez\", \"Mpudule\", \"Tobi\"]\n",
    "print(names_of_students[0])\n",
    "updated_names = names_of_students + [\"Daniel\"]\n",
    "print(updated_names)"
   ]
  },
  {
   "cell_type": "code",
   "execution_count": 14,
   "id": "51b9a104",
   "metadata": {},
   "outputs": [
    {
     "name": "stdout",
     "output_type": "stream",
     "text": [
      "[1, 2, 3, 4, 5, 6]\n"
     ]
    }
   ],
   "source": [
    "#ADDING LIST TOGETHER \n",
    "List1 = [1,2,3]\n",
    "List2 = [4,5,6] \n",
    "List3 = List1 + List2\n",
    "print(List3)\n"
   ]
  },
  {
   "cell_type": "code",
   "execution_count": 15,
   "id": "851c94e2",
   "metadata": {},
   "outputs": [
    {
     "name": "stdout",
     "output_type": "stream",
     "text": [
      "['Mouma', 'Binta', 'Azeez', 'Mpudule', 'Tobi', 'Daniel', 'Angela']\n"
     ]
    }
   ],
   "source": [
    "updated_names.append(\"Angela\")\n",
    "print(updated_names)"
   ]
  },
  {
   "cell_type": "code",
   "execution_count": 3,
   "id": "7a5a8594",
   "metadata": {},
   "outputs": [
    {
     "name": "stdout",
     "output_type": "stream",
     "text": [
      "['apple', 'banana', 'cherry', 'orange']\n"
     ]
    }
   ],
   "source": [
    "# adding an item to a list\n",
    "aLL_fruits = [\"apple\", \"banana\", \"cherry\"]\n",
    "aLL_fruits.append(\"orange\")\n",
    "print(aLL_fruits)   "
   ]
  },
  {
   "cell_type": "code",
   "execution_count": 18,
   "id": "1629400a",
   "metadata": {},
   "outputs": [
    {
     "name": "stdout",
     "output_type": "stream",
     "text": [
      "Mouma\n",
      "Binta\n",
      "Azeez\n",
      "Daniel\n"
     ]
    }
   ],
   "source": [
    "print(updated_names[0])\n",
    "print(updated_names[1]) \n",
    "print(updated_names[2]) \n",
    "print(updated_names[-2])"
   ]
  },
  {
   "cell_type": "code",
   "execution_count": 4,
   "id": "0e93324e",
   "metadata": {},
   "outputs": [
    {
     "name": "stdout",
     "output_type": "stream",
     "text": [
      "a\n",
      "b\n",
      "e\n",
      "d\n"
     ]
    }
   ],
   "source": [
    "# List indexing\n",
    "letters = ['a', 'b', 'c', 'd', 'e']\n",
    "print(letters[0])  # Output: 'a' #first item in the list\n",
    "print(letters[1])  # Output: 'b' #second item in the list       \n",
    "print(letters[-1]) #last item in the list\n",
    "print(letters[-2]) #second last item in the list\n",
    "\n"
   ]
  },
  {
   "cell_type": "code",
   "execution_count": 3,
   "id": "62f74497",
   "metadata": {},
   "outputs": [
    {
     "name": "stdout",
     "output_type": "stream",
     "text": [
      "['a', 'b', 'c', 'd', 'e']\n"
     ]
    }
   ],
   "source": [
    "#LIST SLICING\n",
    "letters = ['a', 'b', 'c', 'd', 'e','f','g','h','k','l'] \n",
    "letters_slice = letters[0:5] \n",
    "print(letters_slice)  "
   ]
  },
  {
   "cell_type": "code",
   "execution_count": 23,
   "id": "539f1f27",
   "metadata": {},
   "outputs": [
    {
     "name": "stdout",
     "output_type": "stream",
     "text": [
      "0\n",
      "1\n",
      "2\n",
      "3\n",
      "4\n",
      "5\n"
     ]
    }
   ],
   "source": [
    "for i in range(6):  # Generates numbers from 0 to 4\n",
    "    print(i)"
   ]
  },
  {
   "cell_type": "code",
   "execution_count": 24,
   "id": "47e53b89",
   "metadata": {},
   "outputs": [
    {
     "name": "stdout",
     "output_type": "stream",
     "text": [
      "['b', 'c']\n"
     ]
    }
   ],
   "source": [
    "print(letters[1:3]) "
   ]
  },
  {
   "cell_type": "code",
   "execution_count": 5,
   "id": "f312eb0e-b0b0-4ae3-b33d-f4180172e494",
   "metadata": {},
   "outputs": [
    {
     "name": "stdout",
     "output_type": "stream",
     "text": [
      "['a', 'd', 'g', 'l']\n"
     ]
    }
   ],
   "source": [
    "print(letters[::3])"
   ]
  },
  {
   "cell_type": "code",
   "execution_count": 7,
   "id": "f83d8773-2335-4550-b12e-c835351a762c",
   "metadata": {},
   "outputs": [
    {
     "name": "stdout",
     "output_type": "stream",
     "text": [
      "['a', 'b', 'c', 'd', 'e', 'f', 'g', 'h', 'k', 'l']\n"
     ]
    }
   ],
   "source": [
    "letters = ['a', 'b', 'c', 'd', 'e','f','g','h','k','l'] \n",
    "print(letters)"
   ]
  },
  {
   "cell_type": "code",
   "execution_count": 8,
   "id": "bc633b45-113c-4240-9dfc-fa5805cd6ea9",
   "metadata": {},
   "outputs": [
    {
     "name": "stdout",
     "output_type": "stream",
     "text": [
      "['a', 'b', 'c']\n"
     ]
    }
   ],
   "source": [
    "print(letters[:3])"
   ]
  },
  {
   "cell_type": "code",
   "execution_count": 9,
   "id": "d51b8605-6c0a-4061-97e1-79ee6454ed6d",
   "metadata": {},
   "outputs": [
    {
     "name": "stdout",
     "output_type": "stream",
     "text": [
      "['d', 'e', 'f', 'g', 'h', 'k', 'l']\n"
     ]
    }
   ],
   "source": [
    "print(letters[3:])"
   ]
  },
  {
   "cell_type": "code",
   "execution_count": 16,
   "id": "b853a5dd-02d2-46b5-8d4a-845ad743392d",
   "metadata": {},
   "outputs": [
    {
     "name": "stdout",
     "output_type": "stream",
     "text": [
      "['d', 'e', 'f', 'g', 'h', 'k']\n"
     ]
    }
   ],
   "source": [
    "print(letters[-7:-1])"
   ]
  },
  {
   "cell_type": "code",
   "execution_count": 6,
   "id": "38fb690c",
   "metadata": {},
   "outputs": [
    {
     "name": "stdout",
     "output_type": "stream",
     "text": [
      "['b', 'c', 'd']\n",
      "['b', 'c']\n",
      "['a', 'c', 'e']\n",
      "['a', 'b', 'c']\n",
      "['d', 'e']\n",
      "['c', 'd', 'e']\n"
     ]
    }
   ],
   "source": [
    "#LIST SLICING\n",
    "letters = ['a', 'b', 'c', 'd', 'e'] \n",
    "letters_slice = letters[1:4]  # Slices from index 1 to 3 (4 is excluded)\n",
    "print(letters_slice)  # Output: ['b', 'c', 'd']     \n",
    "print(letters[1:3]) # outputs b and c\n",
    "print(letters[::2]) # outputs a,c,e every second item\n",
    "print(letters[:3]) # outputs a,b,c first three items\n",
    "print(letters[3:]) # outputs d,e from index 3 to the end\n",
    "print(letters[-3:]) # outputs c,d,e last three items        \n"
   ]
  },
  {
   "cell_type": "code",
   "execution_count": 21,
   "id": "ac2c0a3c-365a-42b1-b1db-f9dd466f6cf8",
   "metadata": {},
   "outputs": [
    {
     "name": "stdout",
     "output_type": "stream",
     "text": [
      "6\n",
      "4\n",
      "2\n",
      "0\n",
      "-2\n"
     ]
    }
   ],
   "source": [
    "for i in range(6,-4,-2):  # Generates numbers from 6 to 1, decrementing by 2\n",
    "    print(i) "
   ]
  },
  {
   "cell_type": "code",
   "execution_count": 10,
   "id": "edb7f099",
   "metadata": {},
   "outputs": [
    {
     "name": "stdout",
     "output_type": "stream",
     "text": [
      "0\n",
      "1\n",
      "2\n",
      "3\n",
      "4\n",
      "--------\n",
      "6\n",
      "4\n",
      "2\n",
      "0\n",
      "-2\n"
     ]
    }
   ],
   "source": [
    "#USE OF RANGE FUNCTION\n",
    "for i in range(5):  # Generates numbers from 0 to 4\n",
    "    print(i)\n",
    "\n",
    "print(\"--------\")   \n",
    "\n",
    "\n",
    "for i in range(6,-4,-2):  # Generates numbers from 6 to 1, decrementing by 2\n",
    "    print(i)    "
   ]
  },
  {
   "cell_type": "code",
   "execution_count": null,
   "id": "43cb0ef2-46d4-4fe9-949a-527c0956ca53",
   "metadata": {},
   "outputs": [],
   "source": [
    "#MODULES - PACKAGES -LIBRARIES "
   ]
  },
  {
   "cell_type": "code",
   "execution_count": 3,
   "id": "f8db4f9d",
   "metadata": {},
   "outputs": [
    {
     "name": "stdout",
     "output_type": "stream",
     "text": [
      "1\n"
     ]
    }
   ],
   "source": [
    "import random as rd \n",
    "\n",
    "# randint(start, end,end)\n",
    "i = rd.randint(1, 100)\n",
    "print(i)"
   ]
  },
  {
   "cell_type": "code",
   "execution_count": null,
   "id": "a1a61ca0",
   "metadata": {},
   "outputs": [],
   "source": []
  },
  {
   "cell_type": "code",
   "execution_count": 3,
   "id": "5ef582ee",
   "metadata": {},
   "outputs": [
    {
     "name": "stdout",
     "output_type": "stream",
     "text": [
      "['b', 'c']\n"
     ]
    }
   ],
   "source": [
    "letters = [\"a\",\"b\",\"c\",\"d\"]\n",
    "v= letters[1:3]\n",
    "print(v)"
   ]
  },
  {
   "cell_type": "code",
   "execution_count": 4,
   "id": "4df43b52",
   "metadata": {},
   "outputs": [
    {
     "name": "stdout",
     "output_type": "stream",
     "text": [
      "5\n"
     ]
    }
   ],
   "source": [
    "print(round(4.6))"
   ]
  },
  {
   "cell_type": "code",
   "execution_count": 30,
   "id": "1afcb6ae-8842-4b08-bac6-5596b1fb5141",
   "metadata": {},
   "outputs": [
    {
     "name": "stdout",
     "output_type": "stream",
     "text": [
      "hello, world!\n",
      "HELLO, WORLD!\n",
      "H\n",
      "13\n"
     ]
    }
   ],
   "source": [
    "stri = \"Hello, World!\"\n",
    "print(stri.lower())\n",
    "print(stri.upper())\n",
    "#list #string\n",
    "print(stri[0])\n",
    "print(len(stri))\n"
   ]
  },
  {
   "cell_type": "code",
   "execution_count": null,
   "id": "f074f035",
   "metadata": {},
   "outputs": [
    {
     "name": "stdout",
     "output_type": "stream",
     "text": [
      "H\n",
      "!\n",
      "World\n",
      "13\n",
      "hello, world!\n",
      "HELLO, WORLD!\n"
     ]
    }
   ],
   "source": [
    "#Data Types\n",
    "#Strings\n",
    "stri = \"Hello, World!\"\n",
    "print(stri[0])  # Accessing the first character\n",
    "print(stri[-1])  # Accessing the last character\n",
    "print(stri[7:12])  # Slicing the string\n",
    "print(len(stri))  # Length of the string # Note length function does not like integers\n",
    "print(stri.lower())  # Convert to lowercase\n",
    "print(stri.upper())  # Convert to uppercase "
   ]
  },
  {
   "cell_type": "code",
   "execution_count": null,
   "id": "f12e504a",
   "metadata": {},
   "outputs": [
    {
     "name": "stdout",
     "output_type": "stream",
     "text": [
      "Your name has 7 characters.\n"
     ]
    }
   ],
   "source": [
    "name_char_length = str(len(\"Clement\")) # Type conversion from int to str\n",
    "#type(num_char)\n",
    "print(\"Your name has \" + name_char_length + \" characters.\")"
   ]
  },
  {
   "cell_type": "code",
   "execution_count": null,
   "id": "a314d402",
   "metadata": {},
   "outputs": [
    {
     "name": "stdout",
     "output_type": "stream",
     "text": [
      "10 -5 0\n"
     ]
    }
   ],
   "source": [
    "#Date Types\n",
    "#Integers  : int\n",
    "num1 = 10   # Integer\n",
    "num2 = -5   # Negative integer \n",
    "num3 = 0    # Zero\n",
    "print(num1, num2, num3)\n",
    "\n",
    "\n"
   ]
  },
  {
   "cell_type": "code",
   "execution_count": 6,
   "id": "34a4c19f",
   "metadata": {},
   "outputs": [
    {
     "name": "stdout",
     "output_type": "stream",
     "text": [
      "10.5 -3.14 0.0\n"
     ]
    }
   ],
   "source": [
    "#Float : float\n",
    "float1 = 10.5   # Positive float \n",
    "float2 = -3.14  # Negative float\n",
    "float3 = 0.0    # Zero float    \n",
    "print(float1, float2, float3)"
   ]
  },
  {
   "cell_type": "code",
   "execution_count": 7,
   "id": "278a07e8",
   "metadata": {},
   "outputs": [
    {
     "name": "stdout",
     "output_type": "stream",
     "text": [
      "True False\n"
     ]
    }
   ],
   "source": [
    "#Data Types\n",
    "#Boolean : bool\n",
    "bool1 = True    # Boolean True\n",
    "bool2 = False   # Boolean False\n",
    "print(bool1, bool2)"
   ]
  },
  {
   "cell_type": "code",
   "execution_count": 33,
   "id": "9cf8baa1",
   "metadata": {},
   "outputs": [
    {
     "name": "stdout",
     "output_type": "stream",
     "text": [
      " very easy\n",
      "10\n",
      "20\n",
      "20\n"
     ]
    }
   ],
   "source": [
    "#Exercise\n",
    "#Given two strings \n",
    "str_val = \"The assessment was very easy\"\n",
    "str_val2 = \"The assessment was very hard\"\n",
    "# Find the length of the first 10 digits for the first string and the last 10 digits for the second string and add them together to get a total length\n",
    "len1 = len(str_val[-10:])\n",
    "len2 = len(str_val2[:10])\n",
    "\n",
    "#\n",
    "print(str_val[-10:])\n",
    "print(len(str_val[-10:]))\n",
    "print(len1 + len2)\n",
    "print(int(len1) + int(len2) )"
   ]
  },
  {
   "cell_type": "code",
   "execution_count": null,
   "id": "49e5aeac-8222-4cbb-90eb-0c53052d06eb",
   "metadata": {},
   "outputs": [],
   "source": [
    "#Class & OOP"
   ]
  },
  {
   "cell_type": "code",
   "execution_count": 35,
   "id": "a857cced-30c7-4657-86c5-9bb659be867a",
   "metadata": {},
   "outputs": [
    {
     "name": "stdout",
     "output_type": "stream",
     "text": [
      "[\"Let's \", 'do ', 'this!']\n"
     ]
    }
   ],
   "source": [
    "sent = [\"Let's \", 'do ', 'this!']\n",
    "print(sent)"
   ]
  },
  {
   "cell_type": "code",
   "execution_count": 47,
   "id": "93258ceb-6733-4475-82fc-c014def9bd6c",
   "metadata": {},
   "outputs": [],
   "source": [
    "def combine(list1:[]):\n",
    "    # .join()\n",
    "    sentence =\"\".join(list1)\n",
    "    return sentence\n",
    "    "
   ]
  },
  {
   "cell_type": "code",
   "execution_count": 48,
   "id": "15d1c92d",
   "metadata": {},
   "outputs": [
    {
     "data": {
      "text/plain": [
       "True"
      ]
     },
     "execution_count": 48,
     "metadata": {},
     "output_type": "execute_result"
    }
   ],
   "source": [
    "combine(['Hello',', ','how',' ','are',' ','you','?']) == 'Hello, how are you?'"
   ]
  },
  {
   "cell_type": "code",
   "execution_count": 51,
   "id": "d3f06aa8-20c9-422f-a0a2-1d9fc74e3ceb",
   "metadata": {},
   "outputs": [],
   "source": [
    "statement = [\"together \", 'do ', 'this!']"
   ]
  },
  {
   "cell_type": "code",
   "execution_count": 52,
   "id": "bd813d4e-10a2-43d8-87d2-c951101d9a7f",
   "metadata": {},
   "outputs": [
    {
     "data": {
      "text/plain": [
       "'together do this!'"
      ]
     },
     "execution_count": 52,
     "metadata": {},
     "output_type": "execute_result"
    }
   ],
   "source": [
    "combine(statement)"
   ]
  },
  {
   "cell_type": "code",
   "execution_count": 54,
   "id": "b73f818c-c490-4797-a96f-6b5bfeede22c",
   "metadata": {},
   "outputs": [],
   "source": [
    "# Write a function that finds the square root and the square of every number in the following list \n",
    "list1 = [2,4,6,8,10]\n",
    "list2 = [100,25,64,81]"
   ]
  },
  {
   "cell_type": "code",
   "execution_count": 56,
   "id": "8fcb51e8-a3d1-4016-a6fd-9e59f3118adf",
   "metadata": {},
   "outputs": [],
   "source": [
    "def square_sqrt(l:[]):\n",
    "    # find the square root \n",
    "    # find the square \n",
    "    sqrt =[]\n",
    "    square = []\n",
    "    for i in l:\n",
    "        sqrt.append((i)**0.5)\n",
    "        square.append((i)**2)\n",
    "    return sqrt, square    \n",
    "        "
   ]
  },
  {
   "cell_type": "code",
   "execution_count": 57,
   "id": "4586d667-34be-4fe1-a3a7-4dd5733dc369",
   "metadata": {},
   "outputs": [
    {
     "data": {
      "text/plain": [
       "([1.4142135623730951,\n",
       "  2.0,\n",
       "  2.449489742783178,\n",
       "  2.8284271247461903,\n",
       "  3.1622776601683795],\n",
       " [4, 16, 36, 64, 100])"
      ]
     },
     "execution_count": 57,
     "metadata": {},
     "output_type": "execute_result"
    }
   ],
   "source": [
    "square_sqrt(list1)"
   ]
  },
  {
   "cell_type": "code",
   "execution_count": 4,
   "id": "3d0d1a76-6362-4231-a34a-34312f0bd6db",
   "metadata": {},
   "outputs": [
    {
     "name": "stdout",
     "output_type": "stream",
     "text": [
      "[2, 2]\n"
     ]
    }
   ],
   "source": [
    "list1 = [2,2,4,6,8,10]\n",
    "\n",
    "print(list1[0:2])"
   ]
  },
  {
   "cell_type": "code",
   "execution_count": null,
   "id": "dbd80483-9e8c-43b7-8e84-e90252ffc7aa",
   "metadata": {},
   "outputs": [],
   "source": [
    "# Write a function that takes in any 3 random ages of an end user as list, finds modulo 2 of each value in a list and gives the result"
   ]
  },
  {
   "cell_type": "markdown",
   "id": "5070f71f-32f7-4dbf-836a-0332e8d9c398",
   "metadata": {},
   "source": [
    "### <b> Collection/Container Data types in Python  </b> \n",
    "#### 1)  list\n",
    "\n",
    "What: Ordered, mutable sequence. Allows duplicates. Indexable/sliceable.\n",
    "\n",
    "Use for: Collections you’ll reorder, grow, or edit.\n",
    "\n",
    "\n",
    "#### 2) tuple\n",
    "\n",
    "What: Ordered, immutable sequence. Allows duplicates. Indexable.\n",
    "\n",
    "Use for: Fixed records, return multiple values, dict keys (if elements are hashable).\n",
    "\n",
    "#### 3)set\n",
    "\n",
    "What: Unordered, mutable collection of unique items. No duplicates; not indexable.\n",
    "\n",
    "Use for: Membership tests, removing duplicates, set algebra.\n",
    "\n",
    "#### 4) dict (dictionary)\n",
    "\n",
    "What: Unordered (insertion-ordered since Python 3.7), mutable mapping of key: value pairs. Keys must be hashable and unique.\n",
    "\n",
    "Use for: Lookups by key, structured data records."
   ]
  },
  {
   "cell_type": "code",
   "execution_count": 1,
   "id": "6b0aa088-0599-459f-9953-5eeaba205ab2",
   "metadata": {},
   "outputs": [
    {
     "name": "stdout",
     "output_type": "stream",
     "text": [
      "['apple', 'pear', 'apple', 'mango']\n",
      "10 20\n",
      "True\n",
      "{1, 2, 3, 4, 5}\n",
      "Ada\n",
      "['id', 'name', 'roles', 'active']\n"
     ]
    }
   ],
   "source": [
    "#List\n",
    "fruits = [\"apple\", \"banana\", \"apple\"]      # duplicates ok\n",
    "fruits.append(\"mango\")                      # mutate\n",
    "fruits[1] = \"pear\"                          # replace\n",
    "print(fruits)                               # ['apple', 'pear', 'apple', 'mango']\n",
    "\n",
    "\n",
    "#Tuple\n",
    "point = (10, 20)                            # cannot modify in place\n",
    "x, y = point                                # unpack\n",
    "print(point[0], y)                          # 10 20\n",
    "\n",
    "\n",
    "#Set\n",
    "nums = {1, 2, 2, 3}                         # duplicates collapse → {1, 2, 3}\n",
    "nums.add(4)\n",
    "print(3 in nums)                            # True\n",
    "print(nums.union({3, 5}))                   # {1, 2, 3, 4, 5}\n",
    "\n",
    "\n",
    "#Dictionary\n",
    "user = {\"id\": 42, \"name\": \"Ada\", \"roles\": [\"admin\", \"editor\"]}\n",
    "user[\"active\"] = True                       # add/update\n",
    "print(user[\"name\"])                         # Ada\n",
    "print(list(user.keys()))                    # ['id', 'name', 'roles', 'active']\n"
   ]
  },
  {
   "cell_type": "code",
   "execution_count": 16,
   "id": "30ba7928-1e7a-4407-9419-7bd63cdb5e43",
   "metadata": {},
   "outputs": [
    {
     "name": "stdout",
     "output_type": "stream",
     "text": [
      "7\n",
      "[2, 3, 4, 5, 6]\n"
     ]
    }
   ],
   "source": [
    "#list\n",
    "num_list = [1,2,3,4,5,6,7] #0,1,2,3,\n",
    "\n",
    "#indexing\n",
    "print(num_list[-1]) #last value \n",
    "\n",
    "#slicing\n",
    "print(num_list[1:6]) # 3-7"
   ]
  },
  {
   "cell_type": "code",
   "execution_count": null,
   "id": "38991d2e-8731-47a6-a19d-3778eb283ff9",
   "metadata": {},
   "outputs": [],
   "source": []
  }
 ],
 "metadata": {
  "kernelspec": {
   "display_name": "Python 3 (ipykernel)",
   "language": "python",
   "name": "python3"
  },
  "language_info": {
   "codemirror_mode": {
    "name": "ipython",
    "version": 3
   },
   "file_extension": ".py",
   "mimetype": "text/x-python",
   "name": "python",
   "nbconvert_exporter": "python",
   "pygments_lexer": "ipython3",
   "version": "3.12.7"
  }
 },
 "nbformat": 4,
 "nbformat_minor": 5
}
