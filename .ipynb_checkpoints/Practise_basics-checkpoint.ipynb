{
 "cells": [
  {
   "cell_type": "code",
   "execution_count": 1,
   "id": "2088a52a",
   "metadata": {},
   "outputs": [
    {
     "name": "stdout",
     "output_type": "stream",
     "text": [
      "Addition: 5\n",
      "Subtraction: 3\n",
      "Multiplication: 12\n",
      "Division: 5.0\n"
     ]
    }
   ],
   "source": [
    "#ARITHMETIC OPERATORS \n",
    "x = 2 + 3 # add\n",
    "y = 5 - 2 # subtract\n",
    "z = 4 * 3 # multiply\n",
    "w = 10 / 2 # divide\n",
    "print(\"Addition:\", x)\n",
    "print(\"Subtraction:\", y)\n",
    "print(\"Multiplication:\", z)\n",
    "print(\"Division:\", w)\n"
   ]
  },
  {
   "cell_type": "code",
   "execution_count": 3,
   "id": "9edb1f96",
   "metadata": {},
   "outputs": [
    {
     "name": "stdout",
     "output_type": "stream",
     "text": [
      "increment by 5: 15\n"
     ]
    }
   ],
   "source": [
    "first_number =  10\n",
    "first_number += 5 # increment by 5\n",
    "print(\"increment by 5:\", first_number)"
   ]
  },
  {
   "cell_type": "code",
   "execution_count": 9,
   "id": "1a71b44e",
   "metadata": {},
   "outputs": [
    {
     "name": "stdout",
     "output_type": "stream",
     "text": [
      "1\n"
     ]
    }
   ],
   "source": [
    "#modilo operator \n",
    "print(5 % 2)"
   ]
  },
  {
   "cell_type": "code",
   "execution_count": null,
   "id": "57bc0cc4",
   "metadata": {},
   "outputs": [],
   "source": [
    "# Some Errors in Python \n",
    "# - Zero error : when you divide a number by 0 \n",
    "#- Syntax Error : Occurs when your code does not make any sense to the computer e.g this occurs when you misspelt something \n",
    "#- Name Error : Occurs when you try to use a variable that has not been defined\n",
    "#- Type Error : Occurs when you try to perform an operation on a variable that is not compatible with the operation\n",
    "#- Index Error : Occurs when you try to access an index that is out of range in a list or string\n",
    "#- Key Error : Occurs when you try to access a key that does not exist in a dictionary\n",
    "#- Attribute Error : Occurs when you try to access an attribute that does not exist in an object\n",
    "#- Import Error : Occurs when you try to import a module that does not exist or is not installed\n",
    "#- Value Error : Occurs when you try to convert a value to a type that is not compatible with the value\n",
    "#- File Not Found Error : Occurs when you try to open a file that does not exist\n",
    "#- Indentation Error : Occurs when your code is not properly indented, which is important in Python for defining blocks of code\n",
    "#- Overflow Error : Occurs when a calculation exceeds the maximum limit for a numeric type\n",
    "#- Memory Error : Occurs when your program runs out of memory\n",
    "#- Recursion Error : Occurs when a function calls itself too many times without a base case, leading to a stack overflow\n",
    "#- Stop Iteration Error : Occurs when you try to iterate over an object that has no more items to return\n",
    "#- Unicode Error : Occurs when there is an issue with encoding or decoding a string that contains non-ASCII characters          "
   ]
  },
  {
   "cell_type": "code",
   "execution_count": null,
   "id": "62d36cae",
   "metadata": {},
   "outputs": [],
   "source": [
    "name = input(\"Input your name\")"
   ]
  },
  {
   "cell_type": "code",
   "execution_count": null,
   "id": "4b154892",
   "metadata": {},
   "outputs": [],
   "source": [
    "\n",
    "#Creating a function\n",
    "def my_function(name):\n",
    "    print(f'welcome {name}: This is your first function')\n"
   ]
  },
  {
   "cell_type": "code",
   "execution_count": null,
   "id": "7ad8079e",
   "metadata": {},
   "outputs": [],
   "source": [
    "my_function()"
   ]
  },
  {
   "cell_type": "code",
   "execution_count": 8,
   "id": "4bed717c",
   "metadata": {},
   "outputs": [
    {
     "name": "stdout",
     "output_type": "stream",
     "text": [
      "The new number was increased by 10: 35\n"
     ]
    }
   ],
   "source": [
    "new_number = 25\n",
    "new_number +=10 \n",
    "print(f\"The new number was increased by 10: {new_number}\")\n"
   ]
  },
  {
   "cell_type": "code",
   "execution_count": 1,
   "id": "8bbd6a43",
   "metadata": {},
   "outputs": [
    {
     "name": "stdout",
     "output_type": "stream",
     "text": [
      "34\n",
      "67\n",
      "99\n",
      "Invalid\n"
     ]
    }
   ],
   "source": [
    "scores = [34, 67, 99, 105]\n",
    "for s in scores:\n",
    " if s > 100:\n",
    "   print(\"Invalid\")\n",
    "   break\n",
    " print(s)"
   ]
  },
  {
   "cell_type": "code",
   "execution_count": 3,
   "id": "5ef582ee",
   "metadata": {},
   "outputs": [
    {
     "name": "stdout",
     "output_type": "stream",
     "text": [
      "['b', 'c']\n"
     ]
    }
   ],
   "source": [
    "letters = [\"a\",\"b\",\"c\",\"d\"]\n",
    "v= letters[1:3]\n",
    "print(v)"
   ]
  },
  {
   "cell_type": "code",
   "execution_count": 4,
   "id": "4df43b52",
   "metadata": {},
   "outputs": [
    {
     "name": "stdout",
     "output_type": "stream",
     "text": [
      "5\n"
     ]
    }
   ],
   "source": [
    "print(round(4.6))"
   ]
  },
  {
   "cell_type": "code",
   "execution_count": null,
   "id": "f074f035",
   "metadata": {},
   "outputs": [
    {
     "name": "stdout",
     "output_type": "stream",
     "text": [
      "H\n",
      "!\n",
      "World\n",
      "13\n",
      "hello, world!\n",
      "HELLO, WORLD!\n"
     ]
    }
   ],
   "source": [
    "#Data Types\n",
    "#Strings\n",
    "stri = \"Hello, World!\"\n",
    "print(stri[0])  # Accessing the first character\n",
    "print(stri[-1])  # Accessing the last character\n",
    "print(stri[7:12])  # Slicing the string\n",
    "print(len(stri))  # Length of the string # Note length function does not like integers\n",
    "print(stri.lower())  # Convert to lowercase\n",
    "print(stri.upper())  # Convert to uppercase "
   ]
  },
  {
   "cell_type": "code",
   "execution_count": null,
   "id": "f12e504a",
   "metadata": {},
   "outputs": [
    {
     "name": "stdout",
     "output_type": "stream",
     "text": [
      "Your name has 7 characters.\n"
     ]
    }
   ],
   "source": [
    "name_char_length = str(len(\"Clement\")) # Type conversion from int to str\n",
    "#type(num_char)\n",
    "print(\"Your name has \" + name_char_length + \" characters.\")"
   ]
  },
  {
   "cell_type": "code",
   "execution_count": null,
   "id": "a314d402",
   "metadata": {},
   "outputs": [
    {
     "name": "stdout",
     "output_type": "stream",
     "text": [
      "10 -5 0\n"
     ]
    }
   ],
   "source": [
    "#Date Types\n",
    "#Integers  : int\n",
    "num1 = 10   # Integer\n",
    "num2 = -5   # Negative integer \n",
    "num3 = 0    # Zero\n",
    "print(num1, num2, num3)\n",
    "\n",
    "\n"
   ]
  },
  {
   "cell_type": "code",
   "execution_count": 6,
   "id": "34a4c19f",
   "metadata": {},
   "outputs": [
    {
     "name": "stdout",
     "output_type": "stream",
     "text": [
      "10.5 -3.14 0.0\n"
     ]
    }
   ],
   "source": [
    "#Float : float\n",
    "float1 = 10.5   # Positive float \n",
    "float2 = -3.14  # Negative float\n",
    "float3 = 0.0    # Zero float    \n",
    "print(float1, float2, float3)"
   ]
  },
  {
   "cell_type": "code",
   "execution_count": 7,
   "id": "278a07e8",
   "metadata": {},
   "outputs": [
    {
     "name": "stdout",
     "output_type": "stream",
     "text": [
      "True False\n"
     ]
    }
   ],
   "source": [
    "#Data Types\n",
    "#Boolean : bool\n",
    "bool1 = True    # Boolean True\n",
    "bool2 = False   # Boolean False\n",
    "print(bool1, bool2)"
   ]
  },
  {
   "cell_type": "code",
   "execution_count": 6,
   "id": "9cf8baa1",
   "metadata": {},
   "outputs": [
    {
     "name": "stdout",
     "output_type": "stream",
     "text": [
      "20\n"
     ]
    }
   ],
   "source": [
    "#Exercise\n",
    "#Given two strings \n",
    "str_val = \"The assessment was very easy\"\n",
    "str_val2 = \"The assessment was very hard\"\n",
    "# Find the length of the first 10 digits for the first string and the last 10 digits for the second string and add them together to get a total length\n",
    "len1 = len(str_val[-10:])\n",
    "len2 = len(str_val2[:10])\n",
    "print(int(len1) + int(len2) )"
   ]
  },
  {
   "cell_type": "code",
   "execution_count": null,
   "id": "15d1c92d",
   "metadata": {},
   "outputs": [],
   "source": []
  }
 ],
 "metadata": {
  "kernelspec": {
   "display_name": "base",
   "language": "python",
   "name": "python3"
  },
  "language_info": {
   "codemirror_mode": {
    "name": "ipython",
    "version": 3
   },
   "file_extension": ".py",
   "mimetype": "text/x-python",
   "name": "python",
   "nbconvert_exporter": "python",
   "pygments_lexer": "ipython3",
   "version": "3.12.7"
  }
 },
 "nbformat": 4,
 "nbformat_minor": 5
}
