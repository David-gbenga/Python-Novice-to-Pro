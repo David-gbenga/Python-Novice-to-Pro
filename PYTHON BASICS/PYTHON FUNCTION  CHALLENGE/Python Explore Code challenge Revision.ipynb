{
 "cells": [
  {
   "cell_type": "code",
   "execution_count": 1,
   "metadata": {},
   "outputs": [],
   "source": [
    "def combine(list):\n",
    "    \"\"\"This function joins words together\n",
    "    \n",
    "    parmaters\n",
    "    ---------\n",
    "    list : list of words to be joined \n",
    "    sentence : the joined words which all together makes  a sentence\n",
    "    \n",
    "    returns\n",
    "    -------\n",
    "     sentence \n",
    "    \n",
    "    \n",
    "    \"\"\"\n",
    "    sentence = \"\".join(list)\n",
    "    return sentence\n"
   ]
  },
  {
   "cell_type": "code",
   "execution_count": 6,
   "metadata": {},
   "outputs": [
    {
     "data": {
      "text/plain": [
       "\"Let's do this!\""
      ]
     },
     "execution_count": 6,
     "metadata": {},
     "output_type": "execute_result"
    }
   ],
   "source": [
    "combine([\"Let's \", 'do ', 'this!'])"
   ]
  },
  {
   "cell_type": "code",
   "execution_count": 24,
   "metadata": {},
   "outputs": [],
   "source": [
    "def separate(sentence):\n",
    "    \"\"\"This function breaks a sentence into words and outpits them in caps\n",
    "    parmaters\n",
    "    ---------\n",
    "    sentence : the inputted sentence with words\n",
    "    words : a list of capitalised words\n",
    "    --------------------\n",
    "    returns\n",
    "    -------\n",
    "     words\n",
    "    \"\"\"\n",
    "    words =sentence.upper().split(\" \")\n",
    "    return words"
   ]
  },
  {
   "cell_type": "code",
   "execution_count": 25,
   "metadata": {},
   "outputs": [
    {
     "data": {
      "text/plain": [
       "[\"LET'S\", 'DO', 'THIS!']"
      ]
     },
     "execution_count": 25,
     "metadata": {},
     "output_type": "execute_result"
    }
   ],
   "source": [
    "separate(\"Let's do this!\")"
   ]
  },
  {
   "cell_type": "code",
   "execution_count": null,
   "metadata": {},
   "outputs": [],
   "source": []
  }
 ],
 "metadata": {
  "kernelspec": {
   "display_name": "Python 3 (ipykernel)",
   "language": "python",
   "name": "python3"
  },
  "language_info": {
   "codemirror_mode": {
    "name": "ipython",
    "version": 3
   },
   "file_extension": ".py",
   "mimetype": "text/x-python",
   "name": "python",
   "nbconvert_exporter": "python",
   "pygments_lexer": "ipython3",
   "version": "3.12.7"
  }
 },
 "nbformat": 4,
 "nbformat_minor": 4
}
