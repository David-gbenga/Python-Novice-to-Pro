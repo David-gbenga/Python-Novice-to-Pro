{
 "cells": [
  {
   "cell_type": "code",
   "execution_count": 1,
   "id": "473ee8fe",
   "metadata": {},
   "outputs": [
    {
     "name": "stdout",
     "output_type": "stream",
     "text": [
      "Hello from USA\n"
     ]
    }
   ],
   "source": [
    "my_country = \"USA\"\n",
    "\n",
    "print(\"Hello from \" + my_country)"
   ]
  },
  {
   "cell_type": "code",
   "execution_count": 3,
   "id": "fdbe84a9",
   "metadata": {},
   "outputs": [],
   "source": [
    "your_village = input(\"enter your village name: \")"
   ]
  },
  {
   "cell_type": "code",
   "execution_count": 4,
   "id": "5fdd8e75",
   "metadata": {},
   "outputs": [
    {
     "name": "stdout",
     "output_type": "stream",
     "text": [
      "Hello from lagos\n"
     ]
    }
   ],
   "source": [
    "print(\"Hello from \" + your_village)"
   ]
  }
 ],
 "metadata": {
  "kernelspec": {
   "display_name": "base",
   "language": "python",
   "name": "python3"
  },
  "language_info": {
   "codemirror_mode": {
    "name": "ipython",
    "version": 3
   },
   "file_extension": ".py",
   "mimetype": "text/x-python",
   "name": "python",
   "nbconvert_exporter": "python",
   "pygments_lexer": "ipython3",
   "version": "3.12.7"
  }
 },
 "nbformat": 4,
 "nbformat_minor": 5
}
