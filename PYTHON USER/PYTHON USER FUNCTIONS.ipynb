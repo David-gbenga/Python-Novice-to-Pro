{
 "cells": [
  {
   "cell_type": "markdown",
   "id": "45b582f0-329a-4b41-9fbd-66588d9fecfb",
   "metadata": {},
   "source": [
    "#### LAMBDA | MAP | FILTERING"
   ]
  },
  {
   "cell_type": "code",
   "execution_count": 12,
   "id": "dad5bf55-fd14-4bee-a883-e25305323153",
   "metadata": {},
   "outputs": [],
   "source": [
    "#REGULAR functions \n",
    "def multi_by_2(v):\n",
    "    c =int(input(\"enter value for c\"))\n",
    "    return v*2 + c\n",
    "    \n"
   ]
  },
  {
   "cell_type": "code",
   "execution_count": 13,
   "id": "17f4f9b1-76eb-4ef9-898c-69ce65cf546d",
   "metadata": {},
   "outputs": [
    {
     "name": "stdin",
     "output_type": "stream",
     "text": [
      "enter value for c 8\n"
     ]
    },
    {
     "data": {
      "text/plain": [
       "20"
      ]
     },
     "execution_count": 13,
     "metadata": {},
     "output_type": "execute_result"
    }
   ],
   "source": [
    "multi_by_2(6)"
   ]
  },
  {
   "cell_type": "code",
   "execution_count": 19,
   "id": "5a22b596-3111-474e-b372-3082f24e198f",
   "metadata": {},
   "outputs": [],
   "source": [
    "p = lambda v,c:v*2 + c # lambda function "
   ]
  },
  {
   "cell_type": "code",
   "execution_count": 21,
   "id": "516e8ba7-bd92-4af0-94a1-be1494bc0b67",
   "metadata": {},
   "outputs": [
    {
     "name": "stdout",
     "output_type": "stream",
     "text": [
      "20\n"
     ]
    }
   ],
   "source": [
    "print(p(6,8))"
   ]
  },
  {
   "cell_type": "code",
   "execution_count": 22,
   "id": "5f6164f9-6cff-4f0b-952c-21cd2d339d8e",
   "metadata": {},
   "outputs": [],
   "source": [
    "def root(x,y):\n",
    "    return x**(1/y)"
   ]
  },
  {
   "cell_type": "code",
   "execution_count": 24,
   "id": "d9bb8ec4-587f-424a-9e29-52838aa98f2d",
   "metadata": {},
   "outputs": [
    {
     "data": {
      "text/plain": [
       "4.0"
      ]
     },
     "execution_count": 24,
     "metadata": {},
     "output_type": "execute_result"
    }
   ],
   "source": [
    "root(16,2)"
   ]
  },
  {
   "cell_type": "code",
   "execution_count": 25,
   "id": "60915896-a7da-40b3-a62b-078c3958b57d",
   "metadata": {},
   "outputs": [],
   "source": [
    "p = lambda x,y:x**(1/y)"
   ]
  },
  {
   "cell_type": "code",
   "execution_count": 27,
   "id": "0ad84971-9caa-469e-bea2-a81f45668344",
   "metadata": {},
   "outputs": [
    {
     "name": "stdout",
     "output_type": "stream",
     "text": [
      "8.0\n"
     ]
    }
   ],
   "source": [
    "print(p(64,2))"
   ]
  },
  {
   "cell_type": "code",
   "execution_count": 1,
   "id": "7f70aa2b-613c-405e-84bb-abdae068a34b",
   "metadata": {},
   "outputs": [],
   "source": [
    "v = lambda x : x**2"
   ]
  },
  {
   "cell_type": "code",
   "execution_count": 2,
   "id": "560848a4-ac86-40dc-aa2d-3107a3ad9310",
   "metadata": {},
   "outputs": [
    {
     "name": "stdout",
     "output_type": "stream",
     "text": [
      "25\n"
     ]
    }
   ],
   "source": [
    "print(v(5))"
   ]
  },
  {
   "cell_type": "code",
   "execution_count": 2,
   "id": "b83e862b-2334-470b-9e28-8cb0f0a2eed6",
   "metadata": {},
   "outputs": [
    {
     "name": "stdout",
     "output_type": "stream",
     "text": [
      "14\n"
     ]
    }
   ],
   "source": [
    " #LMAMBDA \n",
    "d =lambda x:x*2\n",
    "print(d(7))"
   ]
  },
  {
   "cell_type": "code",
   "execution_count": null,
   "id": "77ae89ab-cbf1-41fc-8636-fa36514c233d",
   "metadata": {},
   "outputs": [],
   "source": [
    "def root(x,y):\n",
    "    return x**(1/y)"
   ]
  },
  {
   "cell_type": "code",
   "execution_count": 45,
   "id": "b603d558-c76a-42ca-b00e-6a59442f29ac",
   "metadata": {},
   "outputs": [],
   "source": [
    "#MAPPING\n",
    "# list, dictionaries, tuples, sets \n",
    "\n",
    "def squa_list(li:[]):\n",
    "    for i in val_list:\n",
    "        print(i**2)"
   ]
  },
  {
   "cell_type": "code",
   "execution_count": 48,
   "id": "b1120cae-0631-487b-9b61-a789d85cc972",
   "metadata": {},
   "outputs": [],
   "source": [
    "val_list = [2,4,6,8,10]"
   ]
  },
  {
   "cell_type": "code",
   "execution_count": 49,
   "id": "e49ba57f-e727-40ec-867a-975f20e78b29",
   "metadata": {},
   "outputs": [
    {
     "name": "stdout",
     "output_type": "stream",
     "text": [
      "4\n",
      "16\n",
      "36\n",
      "64\n",
      "100\n"
     ]
    }
   ],
   "source": [
    "squa_list(val_list)"
   ]
  },
  {
   "cell_type": "code",
   "execution_count": 67,
   "id": "50582d24-d8bd-4905-95ec-fabe6d6fd4f0",
   "metadata": {},
   "outputs": [],
   "source": []
  },
  {
   "cell_type": "code",
   "execution_count": 73,
   "id": "1ec436e0-0cb1-46c6-8380-69f5e7b2f31f",
   "metadata": {},
   "outputs": [],
   "source": [
    "\n",
    "y = [3,9,12,15,18]\n",
    "v = list(map(lambda a : a**2,y))"
   ]
  },
  {
   "cell_type": "code",
   "execution_count": 70,
   "id": "3cc07d5d-0ef9-4b52-a724-b79a4af4e702",
   "metadata": {},
   "outputs": [
    {
     "name": "stdout",
     "output_type": "stream",
     "text": [
      "[9, 81, 144, 225, 324]\n"
     ]
    }
   ],
   "source": [
    "print(v)"
   ]
  },
  {
   "cell_type": "code",
   "execution_count": 71,
   "id": "ffdb5fdb-4283-49fc-b9de-a063e2d1dc59",
   "metadata": {},
   "outputs": [],
   "source": [
    "val_2  = [2,1,3,5,6]"
   ]
  },
  {
   "cell_type": "code",
   "execution_count": 60,
   "id": "0ed95646-49f6-4e90-a3ad-52a8a5b0c37e",
   "metadata": {},
   "outputs": [
    {
     "ename": "TypeError",
     "evalue": "'list' object is not callable",
     "output_type": "error",
     "traceback": [
      "\u001b[1;31m---------------------------------------------------------------------------\u001b[0m",
      "\u001b[1;31mTypeError\u001b[0m                                 Traceback (most recent call last)",
      "Cell \u001b[1;32mIn[60], line 1\u001b[0m\n\u001b[1;32m----> 1\u001b[0m \u001b[38;5;28mprint\u001b[39m(v(val_2))\n",
      "\u001b[1;31mTypeError\u001b[0m: 'list' object is not callable"
     ]
    }
   ],
   "source": [
    "print(v(val_2))"
   ]
  },
  {
   "cell_type": "code",
   "execution_count": 12,
   "id": "43ef50f7-cf16-4917-b26e-3922f53fc97d",
   "metadata": {},
   "outputs": [
    {
     "name": "stdin",
     "output_type": "stream",
     "text": [
      "Enter your firstname:  kolawole\n",
      "Enter your surname:  olanipekun\n"
     ]
    },
    {
     "name": "stdout",
     "output_type": "stream",
     "text": [
      "kolawole OLANIPEKUN\n"
     ]
    }
   ],
   "source": [
    "v = lambda:(input(\"Enter your firstname: \").strip().lower(),input(\"Enter your surname: \").strip().upper() )\n",
    "firstname, lastname = v()\n",
    "print(firstname, lastname)"
   ]
  },
  {
   "cell_type": "markdown",
   "id": "ffab3a1d-0066-4f07-b078-7364ccfa0748",
   "metadata": {},
   "source": [
    "##### <b> Another Eample on use of Map with lambda functions <b>"
   ]
  },
  {
   "cell_type": "code",
   "execution_count": 5,
   "id": "a88ead62-0ca0-4995-a1fc-2cc2a59ab848",
   "metadata": {},
   "outputs": [
    {
     "name": "stdout",
     "output_type": "stream",
     "text": [
      "[9, 16, 25, 36, 49]\n"
     ]
    }
   ],
   "source": [
    "lis_num = [3,4,5,6,7]\n",
    "y = list(map(lambda v:v**2, lis_num))\n",
    "print(y)"
   ]
  },
  {
   "cell_type": "code",
   "execution_count": null,
   "id": "38a6e094-7f38-4727-9a71-1c3ee26504cf",
   "metadata": {},
   "outputs": [],
   "source": [
    "def root(x,y,v):\n",
    "    return ( x %(1/y))v**2"
   ]
  },
  {
   "cell_type": "code",
   "execution_count": 19,
   "id": "30300c87-3466-4eef-8846-6eeade1869ba",
   "metadata": {},
   "outputs": [
    {
     "name": "stdout",
     "output_type": "stream",
     "text": [
      "9\n"
     ]
    }
   ],
   "source": [
    "v = lambda x,y,v :(x % y)*(v**2)\n",
    "print(v(1,2,3))"
   ]
  },
  {
   "cell_type": "code",
   "execution_count": 22,
   "id": "9194e6e8-a06e-47d1-916f-805c04bc7898",
   "metadata": {},
   "outputs": [
    {
     "name": "stdout",
     "output_type": "stream",
     "text": [
      "[1, 2, 3, 5, 6, 9]\n"
     ]
    }
   ],
   "source": [
    "y =[6,2,3,9,1,5]\n",
    "\n",
    "v = lambda y :sorted(y)\n",
    "print(v(y))"
   ]
  },
  {
   "cell_type": "code",
   "execution_count": 24,
   "id": "f9f033da-eb7b-498c-9627-72ecb5c2f231",
   "metadata": {},
   "outputs": [
    {
     "name": "stdout",
     "output_type": "stream",
     "text": [
      "[9, 81, 144, 225, 324]\n"
     ]
    }
   ],
   "source": [
    "#map\n",
    "y = [3,9,12,15,18]\n",
    "v = list(map(lambda a : a**2,y))\n",
    "print(v)"
   ]
  },
  {
   "cell_type": "markdown",
   "id": "08c8f873-0b50-4ba9-bdaf-86c65c4cddf0",
   "metadata": {},
   "source": [
    "### Filtering\n",
    "<b> Unlike the `map` function which applies a lmbda function to all elements in a list, the `filter` function is used to select particular elements (i.e. meeting some condition) from a sequence of elements. This sequence can be any iterator like lists, sets, tuples, etc. The `filter` function can be applied to `lambda` functions as follows:\n",
    "\n",
    "\n",
    "```python\n",
    "    filter (lambda parameter: expression, iterable-sequence)\n",
    "```\n",
    "<b> Example on use of Filters with lambda functions </b>"
   ]
  },
  {
   "cell_type": "code",
   "execution_count": 25,
   "id": "b1464d3d-b5f2-44ae-bf89-2e4b5df54544",
   "metadata": {},
   "outputs": [
    {
     "name": "stdout",
     "output_type": "stream",
     "text": [
      "[5, 6, 7, 8, 9, 10, 11, 12, 13, 14, 15]\n"
     ]
    }
   ],
   "source": [
    "lis_num = [3,4,5,6,7,8,9,10,11,12,13,14,15]\n",
    "z = list(filter(lambda k : k> 4, lis_num))\n",
    "print(z)"
   ]
  },
  {
   "cell_type": "code",
   "execution_count": 28,
   "id": "879b2a14-c82e-41c1-bfab-328d4b3c140e",
   "metadata": {},
   "outputs": [
    {
     "name": "stdout",
     "output_type": "stream",
     "text": [
      "[4, 6, 8, 10, 12, 14]\n"
     ]
    }
   ],
   "source": [
    "lis_num = [3,4,5,6,7,8,9,10,11,12,13,14,15]\n",
    "v = list(filter(lambda q : q % 2 == 0, lis_num))\n",
    "print(v)"
   ]
  },
  {
   "cell_type": "code",
   "execution_count": 30,
   "id": "ea54c9b4-b12f-4d18-845f-6e169a71adb4",
   "metadata": {},
   "outputs": [
    {
     "name": "stdout",
     "output_type": "stream",
     "text": [
      "[3]\n"
     ]
    }
   ],
   "source": [
    "lis_num = [3,4,5,6,7,8,9,10,11,12,13,14,15]\n",
    "w = list(filter(lambda k:k % 3 == 0 and (k > 1 and all(k % i for i in range(2, int(k**0.5) + 1))),lis_num))\n",
    "print(w)"
   ]
  },
  {
   "cell_type": "code",
   "execution_count": 35,
   "id": "95526021-044b-482e-8dab-80ca5b037c6a",
   "metadata": {},
   "outputs": [
    {
     "name": "stdout",
     "output_type": "stream",
     "text": [
      "6\n"
     ]
    }
   ],
   "source": [
    "s = int(**0.5) + 1\n",
    "print(s)"
   ]
  },
  {
   "cell_type": "code",
   "execution_count": 36,
   "id": "4d148549-4223-4ab2-8056-48b634e1f56a",
   "metadata": {},
   "outputs": [
    {
     "data": {
      "text/plain": [
       "[4, 16, 36]"
      ]
     },
     "execution_count": 36,
     "metadata": {},
     "output_type": "execute_result"
    }
   ],
   "source": [
    "#List comprehension\n",
    "nums = [1, 2, 3, 4, 5, 6]\n",
    "\n",
    "[x**2 for x in nums if x%2==0]\n",
    "\n",
    "#find square of x in a list given if the remainder of x /2 is equal to zero \n"
   ]
  },
  {
   "cell_type": "code",
   "execution_count": 3,
   "id": "518de150-6c10-44ba-81da-33801a820d25",
   "metadata": {},
   "outputs": [],
   "source": [
    "def num_2(lis):    \n",
    "    result = []\n",
    "    for x in lis:\n",
    "        if x % 2 ==0:\n",
    "            result.append(x**2)\n",
    "            \n",
    "            \n",
    "    return result\n"
   ]
  },
  {
   "cell_type": "code",
   "execution_count": 4,
   "id": "fba0e514-c115-489c-b9db-2abb47089c64",
   "metadata": {},
   "outputs": [
    {
     "data": {
      "text/plain": [
       "[4, 16, 36]"
      ]
     },
     "execution_count": 4,
     "metadata": {},
     "output_type": "execute_result"
    }
   ],
   "source": [
    "num_2([1, 2, 3, 4, 5, 6])\n"
   ]
  },
  {
   "cell_type": "code",
   "execution_count": null,
   "id": "13466fb1-520d-4b7a-8fc4-5efcaae84699",
   "metadata": {},
   "outputs": [],
   "source": [
    "#write a single line code that sums all the list together\n",
    "a = [1,2,3]\n",
    "b = [4,5,6]\n",
    "c = [7,8,9]\n",
    "d = [10,11,12]\n"
   ]
  },
  {
   "cell_type": "code",
   "execution_count": 5,
   "id": "5c986153-02d1-46a8-ab4d-d418d5917280",
   "metadata": {},
   "outputs": [],
   "source": [
    "#values that are even numbers using list comprehension\n",
    "input_list = [1, 2, 3, 4, 4, 5, 6, 7, 7]\n"
   ]
  },
  {
   "cell_type": "code",
   "execution_count": null,
   "id": "e93ea393-ec25-4272-b604-92fa0741129d",
   "metadata": {},
   "outputs": [],
   "source": []
  }
 ],
 "metadata": {
  "kernelspec": {
   "display_name": "Python 3 (ipykernel)",
   "language": "python",
   "name": "python3"
  },
  "language_info": {
   "codemirror_mode": {
    "name": "ipython",
    "version": 3
   },
   "file_extension": ".py",
   "mimetype": "text/x-python",
   "name": "python",
   "nbconvert_exporter": "python",
   "pygments_lexer": "ipython3",
   "version": "3.12.7"
  }
 },
 "nbformat": 4,
 "nbformat_minor": 5
}
