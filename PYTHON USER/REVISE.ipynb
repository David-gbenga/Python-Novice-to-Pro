{
 "cells": [
  {
   "cell_type": "code",
   "execution_count": 1,
   "id": "dfe84c7f",
   "metadata": {},
   "outputs": [
    {
     "data": {
      "text/plain": [
       "10"
      ]
     },
     "execution_count": 1,
     "metadata": {},
     "output_type": "execute_result"
    }
   ],
   "source": [
    "#TO FIND SQUARE OF A NUMBER \n",
    "v = lambda x: x*2\n",
    "v(5)"
   ]
  },
  {
   "cell_type": "code",
   "execution_count": 2,
   "id": "4035b1cb",
   "metadata": {},
   "outputs": [
    {
     "data": {
      "text/plain": [
       "[4, 6, 8, 10]"
      ]
     },
     "execution_count": 2,
     "metadata": {},
     "output_type": "execute_result"
    }
   ],
   "source": [
    "#do the above to a list \n",
    "numbers = [2,3,4,5]\n",
    "\n",
    "v = list(map(lambda x:x*2, numbers))\n",
    "v"
   ]
  },
  {
   "cell_type": "code",
   "execution_count": 3,
   "id": "aa870a58",
   "metadata": {},
   "outputs": [
    {
     "data": {
      "text/plain": [
       "2.0"
      ]
     },
     "execution_count": 3,
     "metadata": {},
     "output_type": "execute_result"
    }
   ],
   "source": [
    "#lambda function to return yth root of a number \n",
    "v = lambda x,y : x **(1/y)\n",
    "v(4,2)"
   ]
  },
  {
   "cell_type": "code",
   "execution_count": 5,
   "id": "2dea7751",
   "metadata": {},
   "outputs": [
    {
     "data": {
      "text/plain": [
       "[10, 11, 12, 13, 17, 21]"
      ]
     },
     "execution_count": 5,
     "metadata": {},
     "output_type": "execute_result"
    }
   ],
   "source": [
    "#integters greater thsn 9\n",
    "list1 = [2, 6, 8, 10, 11, 4, 12, 7, 13, 17, 0, 3, 21]\n",
    "\n",
    "q = list(filter(lambda x : x>9 , list1))\n",
    "q"
   ]
  },
  {
   "cell_type": "code",
   "execution_count": 6,
   "id": "8b01513a",
   "metadata": {},
   "outputs": [
    {
     "data": {
      "text/plain": [
       "[0, 0, 0, 0, 1, 0, 0, 1, 1, 1, 0, 1, 1]"
      ]
     },
     "execution_count": 6,
     "metadata": {},
     "output_type": "execute_result"
    }
   ],
   "source": [
    "#Use the map() function to output the remainder after dividing each number in list2 by 2.\n",
    "list2 = [2, 6, 8, 10, 11, 4, 12, 7, 13, 17, 0, 3, 21]\n",
    "v = list(map(lambda x : x % 2, list2))\n",
    "v"
   ]
  },
  {
   "cell_type": "markdown",
   "id": "1f8c561a",
   "metadata": {},
   "source": [
    "Given a list of lowercase strings, return a list with the strings in sorted in alphabetical order, except group all the strings that begin with 'x' at the beginning of the list.\n",
    "e.g. ['mix', 'xyz', 'apple', 'xanadu', 'aardvark'] yields\n",
    "['xanadu', 'xyz', 'aardvark', 'apple', 'mix']\n",
    "\n",
    "Hint: this can be done by making 2 lists and sorting each of them before combining them.\n",
    "\n",
    "Hint: Remember that Python's list object has a sort() function. Python also has a built-in function called sorted()."
   ]
  },
  {
   "cell_type": "code",
   "execution_count": 13,
   "id": "db1c931c",
   "metadata": {},
   "outputs": [],
   "source": [
    "\"\"\"Approach\n",
    "\n",
    "# Create two list x_list and n_x_list\n",
    "# X_list will contain sorted words starting with x in alphabetical order\n",
    "# n_x_list will contain words not starting with x and all words will be arranged in alphabetical order\n",
    "# finally ,create a result varibale where the two list is added together with values in x_list coming first \n",
    "\n",
    "\"\"\"\n",
    "\n",
    "\n",
    "\n",
    "\n",
    "\n",
    "\n",
    "def group_sort(listx):\n",
    "    \"\"\"This function takes in a list as arguement and returns a list\n",
    "    of alhphabetically ordered words with the words containing x coming first and those without x coming afterwards\n",
    "    \n",
    "    Parameters: \n",
    "     x_list = list of words with letter x ordered alphabetically \n",
    "     n_x_list =  list of words without letter x ordered alphabetically \n",
    "   returns   \n",
    "     result = a list of combined words with words containing x coming first \n",
    "    \n",
    "    \"\"\"\n",
    "    #create a list x_list where the words containing x have been filtered from the original list\n",
    "    x_list=list(filter(lambda listx : listx[0]=='x', listx))\n",
    "    # sort the list \n",
    "    x_list = sorted(x_list)\n",
    "    #create a list n_x_list where the words not containing x have been filtered from the original list\n",
    "    n_x_list=list(filter(lambda listx : listx[0]!='x', listx))\n",
    "    \n",
    "    # sort the n_x_list list \n",
    "    n_x_list =sorted(n_x_list)\n",
    "    \n",
    "    # add the two list together and store in result \n",
    "    result  = x_list + n_x_list\n",
    "    \n",
    "    return  result\n",
    "\n",
    "\n",
    "        "
   ]
  },
  {
   "cell_type": "code",
   "execution_count": 14,
   "id": "bf6b7369",
   "metadata": {},
   "outputs": [
    {
     "data": {
      "text/plain": [
       "['xanadu', 'xyz', 'aardvark', 'apple', 'mix']"
      ]
     },
     "execution_count": 14,
     "metadata": {},
     "output_type": "execute_result"
    }
   ],
   "source": [
    "x = ['mix', 'xyz', 'apple', 'xanadu', 'aardvark']\n",
    "group_sort(x)"
   ]
  },
  {
   "cell_type": "code",
   "execution_count": 15,
   "id": "309312cd",
   "metadata": {},
   "outputs": [
    {
     "data": {
      "text/plain": [
       "True"
      ]
     },
     "execution_count": 15,
     "metadata": {},
     "output_type": "execute_result"
    }
   ],
   "source": [
    "group_sort(['mix', 'xyz', 'apple', 'xanadu', 'aardvark']) == ['xanadu', 'xyz', 'aardvark', 'apple', 'mix']\n",
    "group_sort(['netowrk', 'artist', 'xamarian', 'king', 'cat']) == ['xamarian', 'artist', 'cat', 'king', 'netowrk']\n",
    "group_sort(['jhsdfi', 'jeiri', 'iopqwu', 'bhvaiau', 'loaks']) == ['bhvaiau', 'iopqwu', 'jeiri', 'jhsdfi', 'loaks']"
   ]
  },
  {
   "cell_type": "markdown",
   "id": "21513aba",
   "metadata": {},
   "source": [
    "Note: RNA starts with a start codon AUG and ends with UGA, UAA, or UAG\n",
    "\n",
    "The function must return \"Not readable RNA code\" if the above conditions are not met.\n",
    "\n",
    "rna_length('AUGUAGCAUAA') == 5\n",
    "rna_length('AUGUUAUAG') == 3\n",
    "rna_length('AUGUAGGCACAUUUAUGCUCCUGA') == 18\n",
    "rna_length('AUGAGGCACCUUCUGCUCCUUAC') == \"Not readable RNA code\""
   ]
  },
  {
   "cell_type": "code",
   "execution_count": 22,
   "id": "19fa19af",
   "metadata": {},
   "outputs": [],
   "source": [
    "\"\"\"Approach\n",
    "1. Check if the RNA contains the start codon AUG in the first 3 characters of the RNA\n",
    "2. if it does, then filter out the remaining characters \n",
    "3. Check if the end of the remaining characters from step 2 contains any of the end codon UGA, UAA, UAG\n",
    "4. if it does remove the last three charaters \n",
    "5. find the length of the remaining characters \n",
    "6. if not True , return \"Not readable RNA code\"\n",
    "\n",
    "\n",
    "\n",
    "\"\"\"\n",
    "\n",
    "\n",
    "\n",
    "def rna_length(RNA):\n",
    "    if RNA[0:4]== 'AUG' and RNA[-3:] in ('UGA','UAA','UAG'):\n",
    "        RNA = RNA[3:]\n",
    "        RNA = RNA[0 :-3]\n",
    "        result = len(RNA)\n",
    "        return result\n",
    "    else :\n",
    "        return \"Not readable RNA code\"\n",
    "    \n",
    "        \n",
    "        \n",
    "       "
   ]
  },
  {
   "cell_type": "code",
   "execution_count": 20,
   "id": "ab2e130d",
   "metadata": {},
   "outputs": [
    {
     "data": {
      "text/plain": [
       "'UAGCA'"
      ]
     },
     "execution_count": 20,
     "metadata": {},
     "output_type": "execute_result"
    }
   ],
   "source": [
    "v = 'AUGUAGCAUAA'\n",
    "v = v[3:]\n",
    "v = v[0 :-3]\n",
    "v"
   ]
  },
  {
   "cell_type": "code",
   "execution_count": 23,
   "id": "7f48bfc3",
   "metadata": {},
   "outputs": [
    {
     "data": {
      "text/plain": [
       "True"
      ]
     },
     "execution_count": 23,
     "metadata": {},
     "output_type": "execute_result"
    }
   ],
   "source": [
    "rna_length('AUGUAGCAUAA') == 5\n",
    "rna_length('AUGUUAUAG') == 3\n",
    "rna_length('AUGUAGGCACAUUUAUGCUCCUGA') == 18\n",
    "rna_length('AUGAGGCACCUUCUGCUCCUUAC') == \"Not readable RNA code\""
   ]
  },
  {
   "cell_type": "code",
   "execution_count": 24,
   "id": "29e5d4aa",
   "metadata": {},
   "outputs": [
    {
     "data": {
      "text/plain": [
       "[4, 16, 36]"
      ]
     },
     "execution_count": 24,
     "metadata": {},
     "output_type": "execute_result"
    }
   ],
   "source": [
    "#list comprehension # find the square of each number in the list below provided it can be divided by 2 without a remainder\n",
    "nums = [1, 2, 3, 4, 5, 6] \n",
    "out = [x**2 for x in nums if x % 2 ==0]\n",
    "out"
   ]
  },
  {
   "cell_type": "code",
   "execution_count": 25,
   "id": "9aa94f0b",
   "metadata": {},
   "outputs": [
    {
     "data": {
      "text/plain": [
       "['e', 'x', 'p', 'l', 'o', 'r', 'e']"
      ]
     },
     "execution_count": 25,
     "metadata": {},
     "output_type": "execute_result"
    }
   ],
   "source": [
    "# spell out each character in a list \n",
    "name = 'explore'\n",
    "out = [x for x in name]\n",
    "out"
   ]
  },
  {
   "cell_type": "code",
   "execution_count": 26,
   "id": "8529dba3",
   "metadata": {},
   "outputs": [
    {
     "data": {
      "text/plain": [
       "5"
      ]
     },
     "execution_count": 26,
     "metadata": {},
     "output_type": "execute_result"
    }
   ],
   "source": [
    "# find how many times the letter e exist in each sentence and find the length of the list \n",
    "my_list = 'explore data science academy'\n",
    "out = len([x for x in my_list if x=='e'])\n",
    "out"
   ]
  },
  {
   "cell_type": "code",
   "execution_count": 27,
   "id": "28df382c",
   "metadata": {},
   "outputs": [
    {
     "data": {
      "text/plain": [
       "[2, 3, 4, 11]"
      ]
     },
     "execution_count": 27,
     "metadata": {},
     "output_type": "execute_result"
    }
   ],
   "source": [
    "#create a list of characters if they are present in the list below \n",
    "list_a = [1, 2, 3, 4, 6, 7, 9, 11]\n",
    "list_b = [2, 3, 4, 5, 11]\n",
    "\n",
    "out = [a for a in list_a if a in list_b]\n",
    "out"
   ]
  },
  {
   "cell_type": "code",
   "execution_count": 30,
   "id": "b49ff75e",
   "metadata": {},
   "outputs": [
    {
     "data": {
      "text/plain": [
       "['vowels',\n",
       " 'consonant',\n",
       " 'consonant',\n",
       " 'consonant',\n",
       " 'vowels',\n",
       " 'consonant',\n",
       " 'vowels']"
      ]
     },
     "execution_count": 30,
     "metadata": {},
     "output_type": "execute_result"
    }
   ],
   "source": [
    "#create a list where vowel word appear for every character in my_string if the character is in the vowel string \n",
    "my_string = 'explore'\n",
    "vowels = 'aeiou'\n",
    "\n",
    "out = ['vowels' if x in vowels else 'consonant' for x in my_string  ]\n",
    "out"
   ]
  },
  {
   "cell_type": "code",
   "execution_count": 32,
   "id": "893d2a17",
   "metadata": {},
   "outputs": [
    {
     "data": {
      "text/plain": [
       "[5, 7, 9]"
      ]
     },
     "execution_count": 32,
     "metadata": {},
     "output_type": "execute_result"
    }
   ],
   "source": [
    "# add each number list a to a number in list b where the occupy same position \n",
    "a = [1,2,3]\n",
    "b = [4,5,6]\n",
    "out = [i+j for i,j in zip(a,b)]\n",
    "out"
   ]
  },
  {
   "cell_type": "markdown",
   "id": "6b96205a-4c0e-40c4-a05c-f74df47f922d",
   "metadata": {},
   "source": [
    "## REVISION REFRESHER"
   ]
  },
  {
   "cell_type": "markdown",
   "id": "d96308d0-672a-4599-9439-6778ffef255c",
   "metadata": {},
   "source": [
    "#### REPLACE THE FUNCTIONS USING LAMBDA EXPRESSIONS "
   ]
  },
  {
   "cell_type": "code",
   "execution_count": null,
   "id": "4893a60f-4a8f-4107-86b9-1e8eb65c7a15",
   "metadata": {},
   "outputs": [],
   "source": [
    "def root(x,y):\n",
    "    return x**(1/y)"
   ]
  },
  {
   "cell_type": "code",
   "execution_count": 7,
   "id": "6b89b9d1-b340-4ef3-9cb2-1c62e28ac24e",
   "metadata": {},
   "outputs": [
    {
     "data": {
      "text/plain": [
       "2.0"
      ]
     },
     "execution_count": 7,
     "metadata": {},
     "output_type": "execute_result"
    }
   ],
   "source": [
    "v = lambda x,y :x**(1/y)\n",
    "v(8,3)\n"
   ]
  },
  {
   "cell_type": "code",
   "execution_count": 9,
   "id": "8f7fbdea-6fd2-4ebe-9e27-e75571e10803",
   "metadata": {},
   "outputs": [
    {
     "data": {
      "text/plain": [
       "[10, 11, 12, 13, 17, 21]"
      ]
     },
     "execution_count": 9,
     "metadata": {},
     "output_type": "execute_result"
    }
   ],
   "source": [
    "#Use the filter() function to output a list of intergers that are greater than 9 from the given list.#\n",
    "list1 = [2, 6, 8, 10, 11, 4, 12, 7, 13, 17, 0, 3, 21]\n",
    "\n",
    "v=list(filter(lambda x:x>9, list1))\n",
    "v"
   ]
  },
  {
   "cell_type": "code",
   "execution_count": 13,
   "id": "8ade15f3-cfb2-4469-bd97-72db5360b701",
   "metadata": {},
   "outputs": [
    {
     "name": "stdout",
     "output_type": "stream",
     "text": [
      "[1, 2, 3, 5, 6, 9]\n"
     ]
    }
   ],
   "source": [
    "#Create a lambda function named sort to sort a list of numbers in an ascending order.\n",
    "# your code here\n",
    "y= [6,2,3,9,1,5]\n",
    "sort = lambda x :sorted(x)\n",
    "print(sort(y))"
   ]
  },
  {
   "cell_type": "code",
   "execution_count": 15,
   "id": "f0b56eff-ed3d-41a0-82d1-181b29245476",
   "metadata": {},
   "outputs": [
    {
     "ename": "TypeError",
     "evalue": "map() must have at least two arguments.",
     "output_type": "error",
     "traceback": [
      "\u001b[1;31m---------------------------------------------------------------------------\u001b[0m",
      "\u001b[1;31mTypeError\u001b[0m                                 Traceback (most recent call last)",
      "Cell \u001b[1;32mIn[15], line 5\u001b[0m\n\u001b[0;32m      1\u001b[0m \u001b[38;5;66;03m#Use the map() function to output the remainder after dividing each number in list2 by 2.\u001b[39;00m\n\u001b[0;32m      3\u001b[0m list2 \u001b[38;5;241m=\u001b[39m [\u001b[38;5;241m2\u001b[39m, \u001b[38;5;241m6\u001b[39m, \u001b[38;5;241m8\u001b[39m, \u001b[38;5;241m10\u001b[39m, \u001b[38;5;241m11\u001b[39m, \u001b[38;5;241m4\u001b[39m, \u001b[38;5;241m12\u001b[39m, \u001b[38;5;241m7\u001b[39m, \u001b[38;5;241m13\u001b[39m, \u001b[38;5;241m17\u001b[39m, \u001b[38;5;241m0\u001b[39m, \u001b[38;5;241m3\u001b[39m, \u001b[38;5;241m21\u001b[39m]\n\u001b[1;32m----> 5\u001b[0m y \u001b[38;5;241m=\u001b[39m \u001b[38;5;28mlist\u001b[39m(\u001b[38;5;28mmap\u001b[39m(\u001b[38;5;28;01mlambda\u001b[39;00m x: x\u001b[38;5;241m%\u001b[39m\u001b[38;5;241m2\u001b[39m))\n\u001b[0;32m      6\u001b[0m \u001b[38;5;28mprint\u001b[39m(y(list2))\n",
      "\u001b[1;31mTypeError\u001b[0m: map() must have at least two arguments."
     ]
    }
   ],
   "source": [
    "#Use the map() function to output the remainder after dividing each number in list2 by 2.\n",
    "\n",
    "list2 = [2, 6, 8, 10, 11, 4, 12, 7, 13, 17, 0, 3, 21]\n",
    "\n",
    "y = list(map(lambda x: x%2))\n",
    "print(y(list2))"
   ]
  },
  {
   "cell_type": "code",
   "execution_count": null,
   "id": "c7c553c7-2c4d-41d4-a1e8-4c0c985a07b6",
   "metadata": {},
   "outputs": [],
   "source": []
  }
 ],
 "metadata": {
  "kernelspec": {
   "display_name": "Python 3 (ipykernel)",
   "language": "python",
   "name": "python3"
  },
  "language_info": {
   "codemirror_mode": {
    "name": "ipython",
    "version": 3
   },
   "file_extension": ".py",
   "mimetype": "text/x-python",
   "name": "python",
   "nbconvert_exporter": "python",
   "pygments_lexer": "ipython3",
   "version": "3.12.4"
  }
 },
 "nbformat": 4,
 "nbformat_minor": 5
}
