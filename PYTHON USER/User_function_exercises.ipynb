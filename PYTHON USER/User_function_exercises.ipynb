{
 "cells": [
  {
   "cell_type": "markdown",
   "id": "a304e469-f8ba-4e36-b5fa-99507312a2b2",
   "metadata": {},
   "source": [
    "### How to use Sort() function\n",
    "\n",
    "- list.sort() is a list method that sorts the list in place and returns None. It only works on lists.\n"
   ]
  },
  {
   "cell_type": "code",
   "execution_count": 3,
   "id": "1d4d6c48-0fb4-4ea1-99d4-c96b4d535107",
   "metadata": {},
   "outputs": [
    {
     "name": "stdout",
     "output_type": "stream",
     "text": [
      "[1, 2, 3]\n"
     ]
    }
   ],
   "source": [
    "nums = [3, 1, 2]\n",
    "nums.sort() # applys to list objects, list arrangement is permanently changed \n",
    "print(nums)"
   ]
  },
  {
   "cell_type": "code",
   "execution_count": 4,
   "id": "98f84106-80d0-4b71-bace-7a1a4442dd30",
   "metadata": {},
   "outputs": [
    {
     "data": {
      "text/plain": [
       "[1, 2, 3]"
      ]
     },
     "execution_count": 4,
     "metadata": {},
     "output_type": "execute_result"
    }
   ],
   "source": [
    "nums"
   ]
  },
  {
   "cell_type": "code",
   "execution_count": 2,
   "id": "cdbfb9ec-e106-475b-97a6-e3f649837d7c",
   "metadata": {},
   "outputs": [
    {
     "name": "stdout",
     "output_type": "stream",
     "text": [
      "[1, 2, 3]\n",
      "['apple', 'Banana', 'cherry']\n",
      "[(1, 'b'), (1, 'a'), (2, 'c')]\n"
     ]
    }
   ],
   "source": [
    "nums = [3, 1, 2]\n",
    "nums.sort()              # sorts in place\n",
    "print(nums)              # [1, 2, 3]\n",
    "\n",
    "words = [\"Banana\", \"apple\", \"cherry\"]\n",
    "words.sort(key=str.casefold)       # case-insensitive\n",
    "print(words)            # ['apple', 'Banana', 'cherry']\n",
    "\n",
    "pairs = [(1, 'b'), (1, 'a'), (2, 'c')]\n",
    "pairs.sort(key=lambda x: x[0])     # stable: 'b' stays before 'a' for equal key=1\n",
    "print(pairs)            # [(1, 'b'), (1, 'a'), (2, 'c')]\n"
   ]
  },
  {
   "cell_type": "markdown",
   "id": "9ae39d45-8ff8-4622-a261-f46c9357d47f",
   "metadata": {},
   "source": [
    "### How to use the Sorted() function\n",
    "- sorted(iterable) is a built-in function that returns a new list with the sorted items and doesn’t modify the original iterable. It works on any iterable (lists, tuples, sets, dicts, generators, etc.)."
   ]
  },
  {
   "cell_type": "code",
   "execution_count": 5,
   "id": "06c5c17a-9281-4aab-b960-27a6f0b7887a",
   "metadata": {},
   "outputs": [
    {
     "name": "stdout",
     "output_type": "stream",
     "text": [
      "[1, 2, 4, 5, 7, 9]\n"
     ]
    }
   ],
   "source": [
    "nums_two = [2,5,7,9,4,1]\n",
    "print(sorted(nums_two))"
   ]
  },
  {
   "cell_type": "code",
   "execution_count": 6,
   "id": "8c13b35d-b8b4-4580-882a-fcdda60a6cfd",
   "metadata": {},
   "outputs": [
    {
     "data": {
      "text/plain": [
       "[2, 5, 7, 9, 4, 1]"
      ]
     },
     "execution_count": 6,
     "metadata": {},
     "output_type": "execute_result"
    }
   ],
   "source": [
    "nums_two"
   ]
  },
  {
   "cell_type": "code",
   "execution_count": 1,
   "id": "44975e4f-eb00-4bc9-9d35-774beac67583",
   "metadata": {},
   "outputs": [
    {
     "name": "stdout",
     "output_type": "stream",
     "text": [
      "[1, 2, 3]\n",
      "[1, 2, 3]\n",
      "['a', 'b', 'C']\n",
      "['alice', 'bob', 'cara']\n",
      "[('bob', 1), ('cara', 2), ('alice', 3)]\n"
     ]
    }
   ],
   "source": [
    "t = (3, 1, 2)\n",
    "print(sorted(t))                      # [1, 2, 3]  (tuple unchanged)\n",
    "\n",
    "s = {3, 1, 2}\n",
    "print(sorted(s))                      # [1, 2, 3]\n",
    "\n",
    "text = \"bCa\"\n",
    "print(sorted(text, key=str.casefold)) # ['a', 'b', 'C']\n",
    "\n",
    "d = {\"alice\": 3, \"bob\": 1, \"cara\": 2}\n",
    "print(sorted(d))                      # ['alice', 'bob', 'cara']  (by keys)\n",
    "print(sorted(d.items(), key=lambda kv: kv[1]))  # [('bob', 1), ('cara', 2), ('alice', 3)]\n"
   ]
  },
  {
   "cell_type": "markdown",
   "id": "25bbf6d6-cec9-4602-bb68-6d53a91b1641",
   "metadata": {},
   "source": [
    "## Challenge 1\n",
    "\n",
    "Given a list of lowercase strings, return a list with the strings in sorted in alphabetical order, except group all the strings that begin with `'x'` at the beginning of the list.<br>\n",
    "e.g. ['mix', 'xyz', 'apple', 'xanadu', 'aardvark'] yields<br>\n",
    "`['xanadu', 'xyz', 'aardvark', 'apple', 'mix']`<br>\n",
    "\n",
    "Hint: this can be done by making 2 lists and sorting each of them before combining them.\n",
    "\n",
    "Hint: Remember that Python's `list` object has a `sort()` function. Python also has a built-in function called `sorted()`. "
   ]
  },
  {
   "cell_type": "code",
   "execution_count": 12,
   "id": "9af8b4e2-a160-49d0-9e0b-6db7fd864967",
   "metadata": {},
   "outputs": [],
   "source": [
    "#Given\n",
    "v1=['mix', 'xyz', 'apple', 'xanadu', 'aardvark']\n",
    "\n",
    "#Return \n",
    "v2= ['xanadu', 'xyz', 'aardvark', 'apple', 'mix']"
   ]
  },
  {
   "cell_type": "code",
   "execution_count": 9,
   "id": "dbf6debe-e3ac-4dee-95fc-294906c98d39",
   "metadata": {},
   "outputs": [
    {
     "name": "stdout",
     "output_type": "stream",
     "text": [
      "m\n"
     ]
    }
   ],
   "source": [
    "y = v1[0]\n",
    "print(y[0])"
   ]
  },
  {
   "cell_type": "code",
   "execution_count": 10,
   "id": "537914fa-fba4-4f61-8c04-d63483647341",
   "metadata": {},
   "outputs": [],
   "source": [
    "#Pseudocode\n",
    "def front_x_arr(list_words):\n",
    "    x_list = []\n",
    "    x_not_list = []\n",
    "    for word in list_words:\n",
    "        if word[0] == 'x':\n",
    "            x_list.append(word)\n",
    "        else:x_not_list.append(word)    \n",
    "    x_list.sort() \n",
    "    x_not_list.sort()\n",
    "    return x_list + x_not_list"
   ]
  },
  {
   "cell_type": "code",
   "execution_count": 13,
   "id": "11425b48-2188-4efc-a22b-b5e53c02988c",
   "metadata": {},
   "outputs": [
    {
     "data": {
      "text/plain": [
       "['xanadu', 'xyz', 'aardvark', 'apple', 'mix']"
      ]
     },
     "execution_count": 13,
     "metadata": {},
     "output_type": "execute_result"
    }
   ],
   "source": [
    "front_x_arr(v1)"
   ]
  },
  {
   "cell_type": "code",
   "execution_count": 11,
   "id": "3e684439-1aae-4004-824c-021e3d53be45",
   "metadata": {},
   "outputs": [
    {
     "data": {
      "text/plain": [
       "True"
      ]
     },
     "execution_count": 11,
     "metadata": {},
     "output_type": "execute_result"
    }
   ],
   "source": [
    "front_x_arr(['mix', 'xyz', 'apple', 'xanadu', 'aardvark']) == ['xanadu', 'xyz', 'aardvark', 'apple', 'mix']"
   ]
  },
  {
   "cell_type": "markdown",
   "id": "07605de8-3788-4cdf-881e-5f3770cde5d3",
   "metadata": {},
   "source": [
    "## Challenge\n",
    "\n",
    "Create a function `sq_cube` which returns a list of lists containing both the square and the cube of only the even numbers in a given list. The function must also be able to round the numbers to the nearest whole number\n",
    "\n",
    "e.g. [1 ,2, 4, 5.6] yields<br>\n",
    "`[[4,8], [16,64], [36,216]]`<br>"
   ]
  },
  {
   "cell_type": "code",
   "execution_count": 3,
   "id": "7b14c58c-aef8-4e23-9fec-755dcde992fd",
   "metadata": {},
   "outputs": [
    {
     "name": "stdout",
     "output_type": "stream",
     "text": [
      "9.0\n"
     ]
    }
   ],
   "source": [
    "v = 8.79\n",
    "print(round(v,0))"
   ]
  },
  {
   "cell_type": "code",
   "execution_count": null,
   "id": "412ff739-1e1d-4c19-830c-a67b967fe43d",
   "metadata": {},
   "outputs": [],
   "source": [
    "### START FUNCTION\n",
    "def sq_cube(numbers):\n",
    "    # your code here\n",
    "    num_var = []\n",
    "    for t in numbers:\n",
    "        num_var.append(int(round(t,0)))\n",
    "    even_var = []    \n",
    "    for var in num_var:\n",
    "        if var % 2==0:\n",
    "            even_var.append(var)\n",
    "    s=[]\n",
    "    c =[]        \n",
    "    for nums in even_var:\n",
    "        s.append(nums**2)\n",
    "        c.append(nums**3)\n",
    "    for i in s,c:\n",
    "        combined_list = list(list(zip(s,c)))    \n",
    "        \n",
    "    final_list = [list(i) for i in combined_list] \n",
    "   \n",
    "   \n",
    "    \n",
    "    return final_list\n",
    "### END FUNCTION"
   ]
  }
 ],
 "metadata": {
  "kernelspec": {
   "display_name": "Python 3 (ipykernel)",
   "language": "python",
   "name": "python3"
  },
  "language_info": {
   "codemirror_mode": {
    "name": "ipython",
    "version": 3
   },
   "file_extension": ".py",
   "mimetype": "text/x-python",
   "name": "python",
   "nbconvert_exporter": "python",
   "pygments_lexer": "ipython3",
   "version": "3.12.7"
  }
 },
 "nbformat": 4,
 "nbformat_minor": 5
}
